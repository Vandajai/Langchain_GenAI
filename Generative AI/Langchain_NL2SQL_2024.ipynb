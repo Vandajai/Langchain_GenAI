{
  "cells": [
    {
      "cell_type": "markdown",
      "metadata": {
        "id": "up5XHcGdVon2"
      },
      "source": [
        "\n",
        "1. Building a basic NL2SQL model\n",
        "2. Adding few-shot examples\n",
        "3. Dynamic few-shot example selection\n",
        "4. Dynamic relevant table selection (Large DB Isssue)\n",
        "5. Customizing prompts\n",
        "6. Adding memory to the chatbot so that it answers follow-up questions related to the database."
      ]
    },
    {
      "cell_type": "code",
      "execution_count": 1,
      "metadata": {},
      "outputs": [],
      "source": [
        "import os\n",
        "#Import pandas as pd\n",
        "#import streamlit as st\n",
        "from dotenv import load_dotenv\n",
        "from langchain_openai import AzureChatOpenAI\n",
        "from langchain_community.agent_toolkits import SQLDatabaseToolkit\n",
        "from langchain.sql_database import SQLDatabase\n",
        "from langchain_core.pydantic_v1 import BaseModel, Field\n",
        "import openai\n",
        "from langchain.chains.openai_tools import create_extraction_chain_pydantic\n",
        "from typing import List\n",
        "from langchain.agents.agent_types import AgentType\n",
        "from langchain_community.agent_toolkits import SQLDatabaseToolkit\n",
        "from langchain.agents import create_sql_agent, ZeroShotAgent\n",
        "from langchain.prompts.chat import ChatPromptTemplate\n",
        "import langchain.globals\n",
        "langchain.globals.set_verbose(True)  # Or False, depending on your needs\n",
        "verbose = langchain.globals.get_verbose()"
      ]
    },
    {
      "cell_type": "code",
      "execution_count": 7,
      "metadata": {
        "id": "HUShN3Sm0Lr0"
      },
      "outputs": [],
      "source": [
        "#!pip install langchain_openai langchain_community langchain pymysql chromadb -q"
      ]
    },
    {
      "cell_type": "code",
      "execution_count": 2,
      "metadata": {
        "id": "c91p9Ep90S9j"
      },
      "outputs": [],
      "source": [
        "username = \"dbWSS\"\n",
        "password = \"LW)ppknteP'\"\n",
        "host = \"used.database.windows.net\"\n",
        "database = \"USED\"\n",
        "driver = \"ODBC Driver 17 for SQL Server\""
      ]
    },
    {
      "cell_type": "code",
      "execution_count": 3,
      "metadata": {},
      "outputs": [],
      "source": [
        "# Create connection string\n",
        "connection_string = (\n",
        "        r'mssql+pyodbc://dbWSS:*JlaIl'\n",
        "        r'@useq.database.windows.net/USEQ'\n",
        "        r'?driver=ODBC+Driver+17+for+SQL+Server'\n",
        "s\n",
        "    )\n"
      ]
    },
    {
      "cell_type": "code",
      "execution_count": 4,
      "metadata": {},
      "outputs": [],
      "source": [
        "#db = SQLDatabase.from_uri(connection_string, schema=\"dbo\",sample_rows_in_table_info=1,include_tables=['account','group','membership'],custom_table_info={'account':\"account\",'group':\"group\"})\n",
        "db = SQLDatabase.from_uri(connection_string, schema=\"dbo\",sample_rows_in_table_info=1,include_tables=['account','group','membership'])"
      ]
    },
    {
      "cell_type": "markdown",
      "metadata": {
        "id": "OQJ4HJ-6WYjk"
      },
      "source": [
        "###Building a basic NLSQL model"
      ]
    },
    {
      "cell_type": "code",
      "execution_count": 5,
      "metadata": {
        "colab": {
          "base_uri": "https://localhost:8080/"
        },
        "id": "4KJLTIDG0YJ5",
        "outputId": "9ae26df1-a6ed-4e3f-e3e0-3b47144e8278"
      },
      "outputs": [
        {
          "name": "stdout",
          "output_type": "stream",
          "text": [
            "mssql\n",
            "['account', 'group', 'membership']\n",
            "\n",
            "CREATE TABLE dbo.[group] (\n",
            "\tid INTEGER NOT NULL IDENTITY(1,1), \n",
            "\tjob_id NVARCHAR(255) COLLATE SQL_Latin1_General_CP1_CI_AS NOT NULL, \n",
            "\tgroup_name NVARCHAR(255) COLLATE SQL_Latin1_General_CP1_CI_AS NULL, \n",
            "\tsystem_id INTEGER NULL, \n",
            "\tsystem_name NVARCHAR(150) COLLATE SQL_Latin1_General_CP1_CI_AS NULL, \n",
            "\tapplication_name NVARCHAR(150) COLLATE SQL_Latin1_General_CP1_CI_AS NULL DEFAULT (''), \n",
            "\tplatform_name NVARCHAR(50) COLLATE SQL_Latin1_General_CP1_CI_AS NULL, \n",
            "\tgroup_type NVARCHAR(255) COLLATE SQL_Latin1_General_CP1_CI_AS NULL, \n",
            "\tcreate_time DATETIME NULL, \n",
            "\tcreateby NVARCHAR(255) COLLATE SQL_Latin1_General_CP1_CI_AS NULL, \n",
            "\tupdate_time DATETIME NULL, \n",
            "\tupdateby NVARCHAR(255) COLLATE SQL_Latin1_General_CP1_CI_AS NULL, \n",
            "\tis_privileged INTEGER NULL, \n",
            "\tprivileged_tier NVARCHAR(10) COLLATE SQL_Latin1_General_CP1_CI_AS NULL, \n",
            "\tdescription1 NVARCHAR(4000) COLLATE SQL_Latin1_General_CP1_CI_AS NULL, \n",
            "\tdescription2 NVARCHAR(4000) COLLATE SQL_Latin1_General_CP1_CI_AS NULL, \n",
            "\t[CustomAttribute1] NVARCHAR(4000) COLLATE SQL_Latin1_General_CP1_CI_AS NULL, \n",
            "\t[CustomAttribute2] NVARCHAR(4000) COLLATE SQL_Latin1_General_CP1_CI_AS NULL, \n",
            "\t[CustomAttribute3] NVARCHAR(4000) COLLATE SQL_Latin1_General_CP1_CI_AS NULL, \n",
            "\t[CustomAttribute4] NVARCHAR(4000) COLLATE SQL_Latin1_General_CP1_CI_AS NULL, \n",
            "\t[CustomAttribute5] NVARCHAR(4000) COLLATE SQL_Latin1_General_CP1_CI_AS NULL, \n",
            "\t[CustomAttribute6] NVARCHAR(4000) COLLATE SQL_Latin1_General_CP1_CI_AS NULL, \n",
            "\t[CustomAttribute7] NVARCHAR(4000) COLLATE SQL_Latin1_General_CP1_CI_AS NULL, \n",
            "\t[CustomAttribute8] NVARCHAR(4000) COLLATE SQL_Latin1_General_CP1_CI_AS NULL, \n",
            "\t[CustomAttribute9] NVARCHAR(4000) COLLATE SQL_Latin1_General_CP1_CI_AS NULL, \n",
            "\t[CustomAttribute10] NVARCHAR(4000) COLLATE SQL_Latin1_General_CP1_CI_AS NULL, \n",
            "\t[CustomAttribute11] NVARCHAR(4000) COLLATE SQL_Latin1_General_CP1_CI_AS NULL, \n",
            "\t[CustomAttribute12] NVARCHAR(4000) COLLATE SQL_Latin1_General_CP1_CI_AS NULL, \n",
            "\t[CustomAttribute13] NVARCHAR(4000) COLLATE SQL_Latin1_General_CP1_CI_AS NULL, \n",
            "\t[CustomAttribute14] NVARCHAR(4000) COLLATE SQL_Latin1_General_CP1_CI_AS NULL, \n",
            "\t[CustomAttribute15] NVARCHAR(4000) COLLATE SQL_Latin1_General_CP1_CI_AS NULL, \n",
            "\t[CustomAttribute16] NVARCHAR(4000) COLLATE SQL_Latin1_General_CP1_CI_AS NULL, \n",
            "\t[CustomAttribute17] NVARCHAR(4000) COLLATE SQL_Latin1_General_CP1_CI_AS NULL, \n",
            "\t[CustomAttribute18] NVARCHAR(4000) COLLATE SQL_Latin1_General_CP1_CI_AS NULL, \n",
            "\t[CustomAttribute19] NVARCHAR(4000) COLLATE SQL_Latin1_General_CP1_CI_AS NULL, \n",
            "\t[CustomAttribute20] NVARCHAR(4000) COLLATE SQL_Latin1_General_CP1_CI_AS NULL, \n",
            "\tsource_name NVARCHAR(255) COLLATE SQL_Latin1_General_CP1_CI_AS NULL, \n",
            "\t[ValidFrom] DATETIME2 NOT NULL DEFAULT (sysutcdatetime()), \n",
            "\t[ValidTo] DATETIME2 NOT NULL DEFAULT (CONVERT([datetime2],'9999-12-31 23:59:59.9999999')), \n",
            "\t[CustomAttribute21] NVARCHAR(4000) COLLATE SQL_Latin1_General_CP1_CI_AS NULL, \n",
            "\t[CustomAttribute22] NVARCHAR(4000) COLLATE SQL_Latin1_General_CP1_CI_AS NULL, \n",
            "\t[CustomAttribute23] NVARCHAR(4000) COLLATE SQL_Latin1_General_CP1_CI_AS NULL, \n",
            "\t[CustomAttribute24] NVARCHAR(4000) COLLATE SQL_Latin1_General_CP1_CI_AS NULL, \n",
            "\t[CustomAttribute25] NVARCHAR(4000) COLLATE SQL_Latin1_General_CP1_CI_AS NULL, \n",
            "\t[CustomAttribute26] NVARCHAR(4000) COLLATE SQL_Latin1_General_CP1_CI_AS NULL, \n",
            "\t[CustomAttribute27] NVARCHAR(4000) COLLATE SQL_Latin1_General_CP1_CI_AS NULL, \n",
            "\t[CustomAttribute28] NVARCHAR(4000) COLLATE SQL_Latin1_General_CP1_CI_AS NULL, \n",
            "\t[CustomAttribute29] NVARCHAR(4000) COLLATE SQL_Latin1_General_CP1_CI_AS NULL, \n",
            "\t[CustomAttribute30] NVARCHAR(4000) COLLATE SQL_Latin1_General_CP1_CI_AS NULL, \n",
            "\t[CustomAttribute31] NVARCHAR(4000) COLLATE SQL_Latin1_General_CP1_CI_AS NULL, \n",
            "\t[CustomAttribute32] NVARCHAR(4000) COLLATE SQL_Latin1_General_CP1_CI_AS NULL, \n",
            "\t[CustomAttribute33] NVARCHAR(4000) COLLATE SQL_Latin1_General_CP1_CI_AS NULL, \n",
            "\t[CustomAttribute34] NVARCHAR(4000) COLLATE SQL_Latin1_General_CP1_CI_AS NULL, \n",
            "\t[CustomAttribute35] NVARCHAR(4000) COLLATE SQL_Latin1_General_CP1_CI_AS NULL, \n",
            "\t[CustomAttribute36] NVARCHAR(4000) COLLATE SQL_Latin1_General_CP1_CI_AS NULL, \n",
            "\t[CustomAttribute37] NVARCHAR(4000) COLLATE SQL_Latin1_General_CP1_CI_AS NULL, \n",
            "\t[CustomAttribute38] NVARCHAR(4000) COLLATE SQL_Latin1_General_CP1_CI_AS NULL, \n",
            "\t[CustomAttribute39] NVARCHAR(4000) COLLATE SQL_Latin1_General_CP1_CI_AS NULL, \n",
            "\t[CustomAttribute40] NVARCHAR(4000) COLLATE SQL_Latin1_General_CP1_CI_AS NULL, \n",
            "\tis_privileged_rule NVARCHAR(100) COLLATE SQL_Latin1_General_CP1_CI_AS NULL, \n",
            "\thash_value NVARCHAR(255) COLLATE SQL_Latin1_General_CP1_CI_AS NULL, \n",
            "\tdistinguished_name NVARCHAR(256) COLLATE SQL_Latin1_General_CP1_CI_AS NULL, \n",
            "\tuser_principal_name NVARCHAR(1024) COLLATE SQL_Latin1_General_CP1_CI_AS NULL, \n",
            "\tobject_sid NVARCHAR(256) COLLATE SQL_Latin1_General_CP1_CI_AS NULL, \n",
            "\tauthentication_domain NVARCHAR(255) COLLATE SQL_Latin1_General_CP1_CI_AS NULL, \n",
            "\tsource_group_id INTEGER NULL, \n",
            "\tis_disabled INTEGER NULL, \n",
            "\t[Access_Management_Administrative_Privileges] NVARCHAR(10) COLLATE SQL_Latin1_General_CP1_CI_AS NULL, \n",
            "\t[Cloud_Administrator_Level_Privileges] NVARCHAR(10) COLLATE SQL_Latin1_General_CP1_CI_AS NULL, \n",
            "\t[High_Risk_Application_Administrative_Privileges] NVARCHAR(10) COLLATE SQL_Latin1_General_CP1_CI_AS NULL, \n",
            "\t[Super_Power_User_Privileges] NVARCHAR(10) COLLATE SQL_Latin1_General_CP1_CI_AS NULL, \n",
            "\t[Infrastructure_Platform_Administrative_Privileges] NVARCHAR(10) COLLATE SQL_Latin1_General_CP1_CI_AS NULL, \n",
            "\t[Cloud_Service_Administrative_Privileges] NVARCHAR(10) COLLATE SQL_Latin1_General_CP1_CI_AS NULL, \n",
            "\t[Isolated_Server_Workstation_Administrative_Privileges] NVARCHAR(10) COLLATE SQL_Latin1_General_CP1_CI_AS NULL, \n",
            "\tCONSTRAINT [PK_group] PRIMARY KEY (id, job_id)\n",
            ")\n",
            "\n",
            "/*\n",
            "1 rows from group table:\n",
            "id\tjob_id\tgroup_name\tsystem_id\tsystem_name\tapplication_name\tplatform_name\tgroup_type\tcreate_time\tcreateby\tupdate_time\tupdateby\tis_privileged\tprivileged_tier\tdescription1\tdescription2\tCustomAttribute1\tCustomAttribute2\tCustomAttribute3\tCustomAttribute4\tCustomAttribute5\tCustomAttribute6\tCustomAttribute7\tCustomAttribute8\tCustomAttribute9\tCustomAttribute10\tCustomAttribute11\tCustomAttribute12\tCustomAttribute13\tCustomAttribute14\tCustomAttribute15\tCustomAttribute16\tCustomAttribute17\tCustomAttribute18\tCustomAttribute19\tCustomAttribute20\tsource_name\tValidFrom\tValidTo\tCustomAttribute21\tCustomAttribute22\tCustomAttribute23\tCustomAttribute24\tCustomAttribute25\tCustomAttribute26\tCustomAttribute27\tCustomAttribute28\tCustomAttribute29\tCustomAttribute30\tCustomAttribute31\tCustomAttribute32\tCustomAttribute33\tCustomAttribute34\tCustomAttribute35\tCustomAttribute36\tCustomAttribute37\tCustomAttribute38\tCustomAttribute39\tCustomAttribute40\tis_privileged_rule\thash_value\tdistinguished_name\tuser_principal_name\tobject_sid\tauthentication_domain\tsource_group_id\tis_disabled\tAccess_Management_Administrative_Privileges\tCloud_Administrator_Level_Privileges\tHigh_Risk_Application_Administrative_Privileges\tSuper_Power_User_Privileges\tInfrastructure_Platform_Administrative_Privileges\tCloud_Service_Administrative_Privileges\tIsolated_Server_Workstation_Administrative_Privileges\n",
            "4845\t1638058327416231187\tparisdev\tNone\t10.26.169.13\tPARISCloud\tLinux Server\tNone\tNone\tNone\tNone\tNone\tNone\tNone\tNone\tNone\tNone\tNone\tNone\tNone\t63\tNone\tNone\tNone\tNone\tNone\tNone\tNone\tNone\tNone\tNone\tNone\tNone\tNone\tNone\tTEST\t10.26.169.13_Linux_Lab_Group\t2022-12-06 05:58:08.978051\t9999-12-31 23:59:59.999999\tNone\tNone\tNone\tNone\tNone\tNone\tNone\tNone\tNone\tNone\tNone\tNone\tNone\tNone\tNone\tNone\tNone\tNone\tNone\tNone\tNone\tf18d63bd-3dc4-4ad2-a2ae-0b219efbfc51\tNone\tNone\tNone\tNone\tNone\tNone\tNone\tNone\tNone\tNone\tNone\tNone\tNone\n",
            "*/\n",
            "\n",
            "\n",
            "CREATE TABLE dbo.account (\n",
            "\tid INTEGER NOT NULL IDENTITY(1,1), \n",
            "\tjob_id NVARCHAR(255) COLLATE SQL_Latin1_General_CP1_CI_AS NOT NULL, \n",
            "\tplatform_name NVARCHAR(50) COLLATE SQL_Latin1_General_CP1_CI_AS NULL, \n",
            "\tacct_name NVARCHAR(255) COLLATE SQL_Latin1_General_CP1_CI_AS NULL, \n",
            "\tvaulted_secret_id INTEGER NULL, \n",
            "\tsource_account_id INTEGER NULL, \n",
            "\tsystem_id INTEGER NULL, \n",
            "\tsystem_name NVARCHAR(150) COLLATE SQL_Latin1_General_CP1_CI_AS NULL, \n",
            "\tapplication_name NVARCHAR(150) COLLATE SQL_Latin1_General_CP1_CI_AS NULL DEFAULT (''), \n",
            "\towner NVARCHAR(255) COLLATE SQL_Latin1_General_CP1_CI_AS NULL, \n",
            "\taccount_type NVARCHAR(255) COLLATE SQL_Latin1_General_CP1_CI_AS NULL, \n",
            "\tcreate_time DATETIME NULL, \n",
            "\tcreateby NVARCHAR(255) COLLATE SQL_Latin1_General_CP1_CI_AS NULL, \n",
            "\tupdate_time DATETIME NULL, \n",
            "\tupdateby NVARCHAR(255) COLLATE SQL_Latin1_General_CP1_CI_AS NULL, \n",
            "\tlast_login_time DATETIME NULL, \n",
            "\tlast_password_change_time DATETIME NULL, \n",
            "\tpassword_expire_time DATETIME NULL, \n",
            "\tis_locked NVARCHAR(127) COLLATE SQL_Latin1_General_CP1_CI_AS NULL, \n",
            "\tis_disabled BIT NULL, \n",
            "\tis_privileged INTEGER NULL, \n",
            "\tis_functional NVARCHAR(127) COLLATE SQL_Latin1_General_CP1_CI_AS NULL, \n",
            "\tis_monitored NVARCHAR(127) COLLATE SQL_Latin1_General_CP1_CI_AS NULL, \n",
            "\tis_vaulted INTEGER NOT NULL DEFAULT ((0)), \n",
            "\tcompliance_flag INTEGER NULL DEFAULT ((0)), \n",
            "\tdescription1 NVARCHAR(max) COLLATE SQL_Latin1_General_CP1_CI_AS NULL, \n",
            "\tdescription2 NVARCHAR(max) COLLATE SQL_Latin1_General_CP1_CI_AS NULL, \n",
            "\tis_password_expired NVARCHAR(127) COLLATE SQL_Latin1_General_CP1_CI_AS NULL, \n",
            "\tprivileged_tier NVARCHAR(10) COLLATE SQL_Latin1_General_CP1_CI_AS NULL, \n",
            "\tis_privileged_rule NVARCHAR(100) COLLATE SQL_Latin1_General_CP1_CI_AS NULL, \n",
            "\tfirst_name NVARCHAR(255) COLLATE SQL_Latin1_General_CP1_CI_AS NULL, \n",
            "\tlast_name NVARCHAR(255) COLLATE SQL_Latin1_General_CP1_CI_AS NULL, \n",
            "\temail NVARCHAR(255) COLLATE SQL_Latin1_General_CP1_CI_AS NULL, \n",
            "\tdisplay_name NVARCHAR(255) COLLATE SQL_Latin1_General_CP1_CI_AS NULL, \n",
            "\tcountry NVARCHAR(255) COLLATE SQL_Latin1_General_CP1_CI_AS NULL, \n",
            "\tsource_name NVARCHAR(255) COLLATE SQL_Latin1_General_CP1_CI_AS NULL, \n",
            "\t[CustomAttribute1] NVARCHAR(4000) COLLATE SQL_Latin1_General_CP1_CI_AS NULL, \n",
            "\t[CustomAttribute2] NVARCHAR(4000) COLLATE SQL_Latin1_General_CP1_CI_AS NULL, \n",
            "\t[CustomAttribute3] NVARCHAR(4000) COLLATE SQL_Latin1_General_CP1_CI_AS NULL, \n",
            "\t[CustomAttribute4] NVARCHAR(4000) COLLATE SQL_Latin1_General_CP1_CI_AS NULL, \n",
            "\t[CustomAttribute5] NVARCHAR(4000) COLLATE SQL_Latin1_General_CP1_CI_AS NULL, \n",
            "\t[CustomAttribute6] NVARCHAR(4000) COLLATE SQL_Latin1_General_CP1_CI_AS NULL, \n",
            "\t[CustomAttribute7] NVARCHAR(4000) COLLATE SQL_Latin1_General_CP1_CI_AS NULL, \n",
            "\t[CustomAttribute8] NVARCHAR(4000) COLLATE SQL_Latin1_General_CP1_CI_AS NULL, \n",
            "\t[CustomAttribute9] NVARCHAR(4000) COLLATE SQL_Latin1_General_CP1_CI_AS NULL, \n",
            "\t[CustomAttribute10] NVARCHAR(4000) COLLATE SQL_Latin1_General_CP1_CI_AS NULL, \n",
            "\t[CustomAttribute11] NVARCHAR(4000) COLLATE SQL_Latin1_General_CP1_CI_AS NULL, \n",
            "\t[CustomAttribute12] NVARCHAR(4000) COLLATE SQL_Latin1_General_CP1_CI_AS NULL, \n",
            "\t[CustomAttribute13] NVARCHAR(4000) COLLATE SQL_Latin1_General_CP1_CI_AS NULL, \n",
            "\t[CustomAttribute14] NVARCHAR(4000) COLLATE SQL_Latin1_General_CP1_CI_AS NULL, \n",
            "\t[CustomAttribute15] NVARCHAR(4000) COLLATE SQL_Latin1_General_CP1_CI_AS NULL, \n",
            "\t[CustomAttribute16] NVARCHAR(4000) COLLATE SQL_Latin1_General_CP1_CI_AS NULL, \n",
            "\t[CustomAttribute17] NVARCHAR(4000) COLLATE SQL_Latin1_General_CP1_CI_AS NULL, \n",
            "\t[CustomAttribute18] NVARCHAR(4000) COLLATE SQL_Latin1_General_CP1_CI_AS NULL, \n",
            "\t[CustomAttribute19] NVARCHAR(4000) COLLATE SQL_Latin1_General_CP1_CI_AS NULL, \n",
            "\t[CustomAttribute20] NVARCHAR(4000) COLLATE SQL_Latin1_General_CP1_CI_AS NULL, \n",
            "\t[CustomAttribute21] NVARCHAR(4000) COLLATE SQL_Latin1_General_CP1_CI_AS NULL, \n",
            "\t[CustomAttribute22] NVARCHAR(4000) COLLATE SQL_Latin1_General_CP1_CI_AS NULL, \n",
            "\t[CustomAttribute23] NVARCHAR(4000) COLLATE SQL_Latin1_General_CP1_CI_AS NULL, \n",
            "\t[CustomAttribute24] NVARCHAR(4000) COLLATE SQL_Latin1_General_CP1_CI_AS NULL, \n",
            "\t[CustomAttribute25] NVARCHAR(4000) COLLATE SQL_Latin1_General_CP1_CI_AS NULL, \n",
            "\t[CustomAttribute26] NVARCHAR(4000) COLLATE SQL_Latin1_General_CP1_CI_AS NULL, \n",
            "\t[CustomAttribute27] NVARCHAR(4000) COLLATE SQL_Latin1_General_CP1_CI_AS NULL, \n",
            "\t[CustomAttribute28] NVARCHAR(4000) COLLATE SQL_Latin1_General_CP1_CI_AS NULL, \n",
            "\t[CustomAttribute29] NVARCHAR(4000) COLLATE SQL_Latin1_General_CP1_CI_AS NULL, \n",
            "\t[CustomAttribute30] NVARCHAR(4000) COLLATE SQL_Latin1_General_CP1_CI_AS NULL, \n",
            "\t[CustomAttribute31] NVARCHAR(4000) COLLATE SQL_Latin1_General_CP1_CI_AS NULL, \n",
            "\t[CustomAttribute32] NVARCHAR(4000) COLLATE SQL_Latin1_General_CP1_CI_AS NULL, \n",
            "\t[CustomAttribute33] NVARCHAR(4000) COLLATE SQL_Latin1_General_CP1_CI_AS NULL, \n",
            "\t[CustomAttribute34] NVARCHAR(4000) COLLATE SQL_Latin1_General_CP1_CI_AS NULL, \n",
            "\t[CustomAttribute35] NVARCHAR(4000) COLLATE SQL_Latin1_General_CP1_CI_AS NULL, \n",
            "\t[CustomAttribute36] NVARCHAR(4000) COLLATE SQL_Latin1_General_CP1_CI_AS NULL, \n",
            "\t[CustomAttribute37] NVARCHAR(4000) COLLATE SQL_Latin1_General_CP1_CI_AS NULL, \n",
            "\t[CustomAttribute38] NVARCHAR(4000) COLLATE SQL_Latin1_General_CP1_CI_AS NULL, \n",
            "\t[CustomAttribute39] NVARCHAR(4000) COLLATE SQL_Latin1_General_CP1_CI_AS NULL, \n",
            "\t[CustomAttribute40] NVARCHAR(4000) COLLATE SQL_Latin1_General_CP1_CI_AS NULL, \n",
            "\t[CustomAttribute41] NVARCHAR(4000) COLLATE SQL_Latin1_General_CP1_CI_AS NULL, \n",
            "\t[CustomAttribute42] NVARCHAR(4000) COLLATE SQL_Latin1_General_CP1_CI_AS NULL, \n",
            "\t[CustomAttribute43] NVARCHAR(4000) COLLATE SQL_Latin1_General_CP1_CI_AS NULL, \n",
            "\t[CustomAttribute44] NVARCHAR(4000) COLLATE SQL_Latin1_General_CP1_CI_AS NULL, \n",
            "\t[CustomAttribute45] NVARCHAR(4000) COLLATE SQL_Latin1_General_CP1_CI_AS NULL, \n",
            "\t[CustomAttribute46] NVARCHAR(4000) COLLATE SQL_Latin1_General_CP1_CI_AS NULL, \n",
            "\t[CustomAttribute47] NVARCHAR(4000) COLLATE SQL_Latin1_General_CP1_CI_AS NULL, \n",
            "\t[CustomAttribute48] NVARCHAR(4000) COLLATE SQL_Latin1_General_CP1_CI_AS NULL, \n",
            "\t[CustomAttribute49] NVARCHAR(4000) COLLATE SQL_Latin1_General_CP1_CI_AS NULL, \n",
            "\t[CustomAttribute50] NVARCHAR(4000) COLLATE SQL_Latin1_General_CP1_CI_AS NULL, \n",
            "\t[CustomAttribute51] NVARCHAR(4000) COLLATE SQL_Latin1_General_CP1_CI_AS NULL, \n",
            "\t[CustomAttribute52] NVARCHAR(4000) COLLATE SQL_Latin1_General_CP1_CI_AS NULL, \n",
            "\t[CustomAttribute53] NVARCHAR(4000) COLLATE SQL_Latin1_General_CP1_CI_AS NULL, \n",
            "\t[CustomAttribute54] NVARCHAR(4000) COLLATE SQL_Latin1_General_CP1_CI_AS NULL, \n",
            "\t[CustomAttribute55] NVARCHAR(4000) COLLATE SQL_Latin1_General_CP1_CI_AS NULL, \n",
            "\t[CustomAttribute56] NVARCHAR(4000) COLLATE SQL_Latin1_General_CP1_CI_AS NULL, \n",
            "\t[CustomAttribute57] NVARCHAR(4000) COLLATE SQL_Latin1_General_CP1_CI_AS NULL, \n",
            "\t[CustomAttribute58] NVARCHAR(4000) COLLATE SQL_Latin1_General_CP1_CI_AS NULL, \n",
            "\t[CustomAttribute59] NVARCHAR(4000) COLLATE SQL_Latin1_General_CP1_CI_AS NULL, \n",
            "\t[CustomAttribute60] NVARCHAR(4000) COLLATE SQL_Latin1_General_CP1_CI_AS NULL, \n",
            "\t[CustomAttribute61] NVARCHAR(4000) COLLATE SQL_Latin1_General_CP1_CI_AS NULL, \n",
            "\t[CustomAttribute62] NVARCHAR(4000) COLLATE SQL_Latin1_General_CP1_CI_AS NULL, \n",
            "\t[CustomAttribute63] NVARCHAR(4000) COLLATE SQL_Latin1_General_CP1_CI_AS NULL, \n",
            "\t[CustomAttribute64] NVARCHAR(4000) COLLATE SQL_Latin1_General_CP1_CI_AS NULL, \n",
            "\t[CustomAttribute65] NVARCHAR(4000) COLLATE SQL_Latin1_General_CP1_CI_AS NULL, \n",
            "\t[CustomAttribute66] NVARCHAR(4000) COLLATE SQL_Latin1_General_CP1_CI_AS NULL, \n",
            "\t[CustomAttribute67] NVARCHAR(4000) COLLATE SQL_Latin1_General_CP1_CI_AS NULL, \n",
            "\t[CustomAttribute68] NVARCHAR(4000) COLLATE SQL_Latin1_General_CP1_CI_AS NULL, \n",
            "\t[CustomAttribute69] NVARCHAR(4000) COLLATE SQL_Latin1_General_CP1_CI_AS NULL, \n",
            "\t[CustomAttribute70] NVARCHAR(4000) COLLATE SQL_Latin1_General_CP1_CI_AS NULL, \n",
            "\t[CustomAttribute71] NVARCHAR(4000) COLLATE SQL_Latin1_General_CP1_CI_AS NULL, \n",
            "\t[CustomAttribute72] NVARCHAR(4000) COLLATE SQL_Latin1_General_CP1_CI_AS NULL, \n",
            "\t[CustomAttribute73] NVARCHAR(4000) COLLATE SQL_Latin1_General_CP1_CI_AS NULL, \n",
            "\t[CustomAttribute74] NVARCHAR(4000) COLLATE SQL_Latin1_General_CP1_CI_AS NULL, \n",
            "\t[CustomAttribute75] NVARCHAR(4000) COLLATE SQL_Latin1_General_CP1_CI_AS NULL, \n",
            "\t[CustomAttribute76] NVARCHAR(4000) COLLATE SQL_Latin1_General_CP1_CI_AS NULL, \n",
            "\t[CustomAttribute77] NVARCHAR(4000) COLLATE SQL_Latin1_General_CP1_CI_AS NULL, \n",
            "\t[CustomAttribute78] NVARCHAR(4000) COLLATE SQL_Latin1_General_CP1_CI_AS NULL, \n",
            "\t[CustomAttribute79] NVARCHAR(4000) COLLATE SQL_Latin1_General_CP1_CI_AS NULL, \n",
            "\t[CustomAttribute80] NVARCHAR(4000) COLLATE SQL_Latin1_General_CP1_CI_AS NULL, \n",
            "\t[CustomAttribute81] NVARCHAR(4000) COLLATE SQL_Latin1_General_CP1_CI_AS NULL, \n",
            "\t[CustomAttribute82] NVARCHAR(4000) COLLATE SQL_Latin1_General_CP1_CI_AS NULL, \n",
            "\t[CustomAttribute83] NVARCHAR(4000) COLLATE SQL_Latin1_General_CP1_CI_AS NULL, \n",
            "\t[CustomAttribute84] NVARCHAR(4000) COLLATE SQL_Latin1_General_CP1_CI_AS NULL, \n",
            "\t[CustomAttribute85] NVARCHAR(4000) COLLATE SQL_Latin1_General_CP1_CI_AS NULL, \n",
            "\t[CustomAttribute86] NVARCHAR(4000) COLLATE SQL_Latin1_General_CP1_CI_AS NULL, \n",
            "\t[CustomAttribute87] NVARCHAR(4000) COLLATE SQL_Latin1_General_CP1_CI_AS NULL, \n",
            "\t[CustomAttribute88] NVARCHAR(4000) COLLATE SQL_Latin1_General_CP1_CI_AS NULL, \n",
            "\t[CustomAttribute89] NVARCHAR(4000) COLLATE SQL_Latin1_General_CP1_CI_AS NULL, \n",
            "\t[CustomAttribute90] NVARCHAR(4000) COLLATE SQL_Latin1_General_CP1_CI_AS NULL, \n",
            "\t[CustomAttribute91] NVARCHAR(4000) COLLATE SQL_Latin1_General_CP1_CI_AS NULL, \n",
            "\t[CustomAttribute92] NVARCHAR(4000) COLLATE SQL_Latin1_General_CP1_CI_AS NULL, \n",
            "\t[CustomAttribute93] NVARCHAR(4000) COLLATE SQL_Latin1_General_CP1_CI_AS NULL, \n",
            "\t[CustomAttribute94] NVARCHAR(4000) COLLATE SQL_Latin1_General_CP1_CI_AS NULL, \n",
            "\t[CustomAttribute95] NVARCHAR(4000) COLLATE SQL_Latin1_General_CP1_CI_AS NULL, \n",
            "\t[CustomAttribute96] NVARCHAR(4000) COLLATE SQL_Latin1_General_CP1_CI_AS NULL, \n",
            "\t[CustomAttribute97] NVARCHAR(4000) COLLATE SQL_Latin1_General_CP1_CI_AS NULL, \n",
            "\t[CustomAttribute98] NVARCHAR(4000) COLLATE SQL_Latin1_General_CP1_CI_AS NULL, \n",
            "\t[CustomAttribute99] NVARCHAR(4000) COLLATE SQL_Latin1_General_CP1_CI_AS NULL, \n",
            "\t[CustomAttribute100] NVARCHAR(4000) COLLATE SQL_Latin1_General_CP1_CI_AS NULL, \n",
            "\t[CustomAttribute101] NVARCHAR(4000) COLLATE SQL_Latin1_General_CP1_CI_AS NULL, \n",
            "\t[CustomAttribute102] NVARCHAR(4000) COLLATE SQL_Latin1_General_CP1_CI_AS NULL, \n",
            "\t[CustomAttribute103] NVARCHAR(4000) COLLATE SQL_Latin1_General_CP1_CI_AS NULL, \n",
            "\t[CustomAttribute104] NVARCHAR(4000) COLLATE SQL_Latin1_General_CP1_CI_AS NULL, \n",
            "\t[CustomAttribute105] NVARCHAR(4000) COLLATE SQL_Latin1_General_CP1_CI_AS NULL, \n",
            "\t[CustomAttribute106] NVARCHAR(4000) COLLATE SQL_Latin1_General_CP1_CI_AS NULL, \n",
            "\t[CustomAttribute107] NVARCHAR(4000) COLLATE SQL_Latin1_General_CP1_CI_AS NULL, \n",
            "\t[CustomAttribute108] NVARCHAR(4000) COLLATE SQL_Latin1_General_CP1_CI_AS NULL, \n",
            "\t[CustomAttribute109] NVARCHAR(4000) COLLATE SQL_Latin1_General_CP1_CI_AS NULL, \n",
            "\t[CustomAttribute110] NVARCHAR(4000) COLLATE SQL_Latin1_General_CP1_CI_AS NULL, \n",
            "\t[CustomAttribute111] NVARCHAR(4000) COLLATE SQL_Latin1_General_CP1_CI_AS NULL, \n",
            "\t[CustomAttribute112] NVARCHAR(4000) COLLATE SQL_Latin1_General_CP1_CI_AS NULL, \n",
            "\t[CustomAttribute113] NVARCHAR(4000) COLLATE SQL_Latin1_General_CP1_CI_AS NULL, \n",
            "\t[CustomAttribute114] NVARCHAR(4000) COLLATE SQL_Latin1_General_CP1_CI_AS NULL, \n",
            "\t[CustomAttribute115] NVARCHAR(4000) COLLATE SQL_Latin1_General_CP1_CI_AS NULL, \n",
            "\t[CustomAttribute116] NVARCHAR(4000) COLLATE SQL_Latin1_General_CP1_CI_AS NULL, \n",
            "\t[CustomAttribute117] NVARCHAR(4000) COLLATE SQL_Latin1_General_CP1_CI_AS NULL, \n",
            "\t[CustomAttribute118] NVARCHAR(4000) COLLATE SQL_Latin1_General_CP1_CI_AS NULL, \n",
            "\t[CustomAttribute119] NVARCHAR(4000) COLLATE SQL_Latin1_General_CP1_CI_AS NULL, \n",
            "\t[CustomAttribute120] NVARCHAR(4000) COLLATE SQL_Latin1_General_CP1_CI_AS NULL, \n",
            "\t[ValidFrom] DATETIME2 NOT NULL DEFAULT (sysutcdatetime()), \n",
            "\t[ValidTo] DATETIME2 NOT NULL DEFAULT (CONVERT([datetime2],'9999-12-31 23:59:59.9999999')), \n",
            "\thash_value NVARCHAR(255) COLLATE SQL_Latin1_General_CP1_CI_AS NULL, \n",
            "\t[CustomAttributeByteArray1] VARBINARY(50) NULL, \n",
            "\tis_primary_account INTEGER NULL, \n",
            "\tdistinguished_name NVARCHAR(256) COLLATE SQL_Latin1_General_CP1_CI_AS NULL, \n",
            "\tuser_principal_name NVARCHAR(1024) COLLATE SQL_Latin1_General_CP1_CI_AS NULL, \n",
            "\tobject_sid NVARCHAR(256) COLLATE SQL_Latin1_General_CP1_CI_AS NULL, \n",
            "\tis_passwordless INTEGER NULL, \n",
            "\tauthentication_domain NVARCHAR(255) COLLATE SQL_Latin1_General_CP1_CI_AS NULL, \n",
            "\tad_managedby NVARCHAR(255) COLLATE SQL_Latin1_General_CP1_CI_AS NULL, \n",
            "\tis_password_not_required BIT NULL, \n",
            "\tis_password_never_expires BIT NULL, \n",
            "\tprimary_user_id INTEGER NULL, \n",
            "\tprimary_group_id INTEGER NULL, \n",
            "\tad_sid_history NVARCHAR(255) COLLATE SQL_Latin1_General_CP1_CI_AS NULL, \n",
            "\tad_spn NVARCHAR(255) COLLATE SQL_Latin1_General_CP1_CI_AS NULL, \n",
            "\tis_orphaned BIT NULL, \n",
            "\tauthentication_method NVARCHAR(100) COLLATE SQL_Latin1_General_CP1_CI_AS NULL, \n",
            "\tis_critical_object BIT NULL, \n",
            "\tauthentication_version NVARCHAR(100) COLLATE SQL_Latin1_General_CP1_CI_AS NULL, \n",
            "\trisk_exception_id NVARCHAR(25) COLLATE SQL_Latin1_General_CP1_CI_AS NULL, \n",
            "\trisk_exception_message NVARCHAR(100) COLLATE SQL_Latin1_General_CP1_CI_AS NULL, \n",
            "\tCONSTRAINT [PK_account] PRIMARY KEY (id, job_id)\n",
            ")\n",
            "\n",
            "/*\n",
            "1 rows from account table:\n",
            "id\tjob_id\tplatform_name\tacct_name\tvaulted_secret_id\tsource_account_id\tsystem_id\tsystem_name\tapplication_name\towner\taccount_type\tcreate_time\tcreateby\tupdate_time\tupdateby\tlast_login_time\tlast_password_change_time\tpassword_expire_time\tis_locked\tis_disabled\tis_privileged\tis_functional\tis_monitored\tis_vaulted\tcompliance_flag\tdescription1\tdescription2\tis_password_expired\tprivileged_tier\tis_privileged_rule\tfirst_name\tlast_name\temail\tdisplay_name\tcountry\tsource_name\tCustomAttribute1\tCustomAttribute2\tCustomAttribute3\tCustomAttribute4\tCustomAttribute5\tCustomAttribute6\tCustomAttribute7\tCustomAttribute8\tCustomAttribute9\tCustomAttribute10\tCustomAttribute11\tCustomAttribute12\tCustomAttribute13\tCustomAttribute14\tCustomAttribute15\tCustomAttribute16\tCustomAttribute17\tCustomAttribute18\tCustomAttribute19\tCustomAttribute20\tCustomAttribute21\tCustomAttribute22\tCustomAttribute23\tCustomAttribute24\tCustomAttribute25\tCustomAttribute26\tCustomAttribute27\tCustomAttribute28\tCustomAttribute29\tCustomAttribute30\tCustomAttribute31\tCustomAttribute32\tCustomAttribute33\tCustomAttribute34\tCustomAttribute35\tCustomAttribute36\tCustomAttribute37\tCustomAttribute38\tCustomAttribute39\tCustomAttribute40\tCustomAttribute41\tCustomAttribute42\tCustomAttribute43\tCustomAttribute44\tCustomAttribute45\tCustomAttribute46\tCustomAttribute47\tCustomAttribute48\tCustomAttribute49\tCustomAttribute50\tCustomAttribute51\tCustomAttribute52\tCustomAttribute53\tCustomAttribute54\tCustomAttribute55\tCustomAttribute56\tCustomAttribute57\tCustomAttribute58\tCustomAttribute59\tCustomAttribute60\tCustomAttribute61\tCustomAttribute62\tCustomAttribute63\tCustomAttribute64\tCustomAttribute65\tCustomAttribute66\tCustomAttribute67\tCustomAttribute68\tCustomAttribute69\tCustomAttribute70\tCustomAttribute71\tCustomAttribute72\tCustomAttribute73\tCustomAttribute74\tCustomAttribute75\tCustomAttribute76\tCustomAttribute77\tCustomAttribute78\tCustomAttribute79\tCustomAttribute80\tCustomAttribute81\tCustomAttribute82\tCustomAttribute83\tCustomAttribute84\tCustomAttribute85\tCustomAttribute86\tCustomAttribute87\tCustomAttribute88\tCustomAttribute89\tCustomAttribute90\tCustomAttribute91\tCustomAttribute92\tCustomAttribute93\tCustomAttribute94\tCustomAttribute95\tCustomAttribute96\tCustomAttribute97\tCustomAttribute98\tCustomAttribute99\tCustomAttribute100\tCustomAttribute101\tCustomAttribute102\tCustomAttribute103\tCustomAttribute104\tCustomAttribute105\tCustomAttribute106\tCustomAttribute107\tCustomAttribute108\tCustomAttribute109\tCustomAttribute110\tCustomAttribute111\tCustomAttribute112\tCustomAttribute113\tCustomAttribute114\tCustomAttribute115\tCustomAttribute116\tCustomAttribute117\tCustomAttribute118\tCustomAttribute119\tCustomAttribute120\tValidFrom\tValidTo\thash_value\tCustomAttributeByteArray1\tis_primary_account\tdistinguished_name\tuser_principal_name\tobject_sid\tis_passwordless\tauthentication_domain\tad_managedby\tis_password_not_required\tis_password_never_expires\tprimary_user_id\tprimary_group_id\tad_sid_history\tad_spn\tis_orphaned\tauthentication_method\tis_critical_object\tauthentication_version\trisk_exception_id\trisk_exception_message\n",
            "15666756\t14638457647861977388\tLinux Server\troot\tNone\tNone\tNone\t10.31.50.12\t\tNone\tNone\tNone\tNone\tNone\tNone\tNone\t2009-12-22 00:00:00\tNone\t0\tFalse\t1\tNone\tNone\t0\t0\troot\tNone\tNone\tNone\tNone\tNone\tNone\tNone\tVincent\tNone\tDockerTest_Linux_Account\tNone\tNone\tNone\tNone\tNone\tNone\tNone\tNone\tNone\t0\t0\t/root\t/bin/bash\tNone\tNone\tNone\tNone\tNone\tNone\tNone\tNone\tNone\tNone\tNone\tNone\tNone\tNone\tNone\tNone\tNone\tNone\tNone\tNone\tNone\tNone\tNone\tNone\tNone\tNone\tNone\tNone\tNone\tNone\tNone\tNone\tNone\tNone\tNone\tNone\tNone\tNone\tNone\tNone\tNone\tNone\tNone\tNone\tNone\tNone\tNone\tNone\tNone\tNone\tNone\tNone\tNone\tNone\tNone\tNone\tNone\tNone\tNone\tNone\tNone\tNone\tNone\tNone\tNone\tNone\tNone\tNone\tNone\tNone\tNone\tNone\tNone\tNone\tNone\tNone\tNone\tNone\tNone\tNone\tNone\tNone\tNone\tNone\tNone\tNone\tNone\tNone\tNone\tNone\tNone\tNone\tNone\tNone\tNone\tNone\tNone\tNone\tNone\tNone\tNone\tNone\tNone\tNone\tNone\tNone\tNone\t2024-03-12 05:08:30.607931\t9999-12-31 23:59:59.999999\ta237083a334d7dc1218b06fb0dfc890654ce59f53ea4da637314624e9859080f\tNone\tNone\tNone\tNone\tNone\tNone\tNone\tNone\tNone\tNone\tNone\tNone\tNone\tNone\tNone\tNone\tNone\tNone\tNone\tNone\n",
            "*/\n",
            "\n",
            "\n",
            "CREATE TABLE dbo.membership (\n",
            "\tid INTEGER NOT NULL IDENTITY(1,1), \n",
            "\tjob_id NVARCHAR(255) COLLATE SQL_Latin1_General_CP1_CI_AS NOT NULL, \n",
            "\tsystem_id INTEGER NULL, \n",
            "\taccount_id INTEGER NULL, \n",
            "\tgroup_id INTEGER NULL, \n",
            "\tentitlement_id INTEGER NULL, \n",
            "\tm_group_id INTEGER NULL, \n",
            "\tm_entitlement_id INTEGER NULL, \n",
            "\tsystem_name NVARCHAR(150) COLLATE SQL_Latin1_General_CP1_CI_AS NULL, \n",
            "\tapplication_name NVARCHAR(150) COLLATE SQL_Latin1_General_CP1_CI_AS NULL DEFAULT (''), \n",
            "\tplatform_name NVARCHAR(50) COLLATE SQL_Latin1_General_CP1_CI_AS NULL, \n",
            "\tacct_name NVARCHAR(255) COLLATE SQL_Latin1_General_CP1_CI_AS NULL, \n",
            "\tgroup_name NVARCHAR(255) COLLATE SQL_Latin1_General_CP1_CI_AS NULL, \n",
            "\tentitlement_name NVARCHAR(255) COLLATE SQL_Latin1_General_CP1_CI_AS NULL, \n",
            "\t[memberOf] NVARCHAR(255) COLLATE SQL_Latin1_General_CP1_CI_AS NULL, \n",
            "\tis_privileged INTEGER NULL, \n",
            "\tprivileged_tier NVARCHAR(10) COLLATE SQL_Latin1_General_CP1_CI_AS NULL, \n",
            "\tsource_name NVARCHAR(255) COLLATE SQL_Latin1_General_CP1_CI_AS NULL, \n",
            "\t[ValidFrom] DATETIME2 NOT NULL DEFAULT (sysutcdatetime()), \n",
            "\t[ValidTo] DATETIME2 NOT NULL DEFAULT (CONVERT([datetime2],'9999-12-31 23:59:59.9999999')), \n",
            "\tis_privileged_rule NVARCHAR(100) COLLATE SQL_Latin1_General_CP1_CI_AS NULL, \n",
            "\tis_privileged_group_rule NVARCHAR(255) COLLATE SQL_Latin1_General_CP1_CI_AS NULL, \n",
            "\thash_value NVARCHAR(255) COLLATE SQL_Latin1_General_CP1_CI_AS NULL, \n",
            "\t[CustomAttribute1] NVARCHAR(4000) COLLATE SQL_Latin1_General_CP1_CI_AS NULL, \n",
            "\t[CustomAttribute2] NVARCHAR(4000) COLLATE SQL_Latin1_General_CP1_CI_AS NULL, \n",
            "\t[CustomAttribute3] NVARCHAR(4000) COLLATE SQL_Latin1_General_CP1_CI_AS NULL, \n",
            "\t[CustomAttribute4] NVARCHAR(4000) COLLATE SQL_Latin1_General_CP1_CI_AS NULL, \n",
            "\t[CustomAttribute5] NVARCHAR(4000) COLLATE SQL_Latin1_General_CP1_CI_AS NULL, \n",
            "\tmembership_type NVARCHAR(10) COLLATE SQL_Latin1_General_CP1_CI_AS NULL, \n",
            "\t[CustomAttribute6] NVARCHAR(4000) COLLATE SQL_Latin1_General_CP1_CI_AS NULL, \n",
            "\t[CustomAttribute7] NVARCHAR(4000) COLLATE SQL_Latin1_General_CP1_CI_AS NULL, \n",
            "\t[CustomAttribute8] NVARCHAR(4000) COLLATE SQL_Latin1_General_CP1_CI_AS NULL, \n",
            "\t[CustomAttribute9] NVARCHAR(4000) COLLATE SQL_Latin1_General_CP1_CI_AS NULL, \n",
            "\t[CustomAttribute10] NVARCHAR(4000) COLLATE SQL_Latin1_General_CP1_CI_AS NULL, \n",
            "\t[CustomAttribute11] NVARCHAR(4000) COLLATE SQL_Latin1_General_CP1_CI_AS NULL, \n",
            "\t[CustomAttribute12] NVARCHAR(4000) COLLATE SQL_Latin1_General_CP1_CI_AS NULL, \n",
            "\t[CustomAttribute13] NVARCHAR(4000) COLLATE SQL_Latin1_General_CP1_CI_AS NULL, \n",
            "\t[CustomAttribute14] NVARCHAR(4000) COLLATE SQL_Latin1_General_CP1_CI_AS NULL, \n",
            "\t[CustomAttribute15] NVARCHAR(4000) COLLATE SQL_Latin1_General_CP1_CI_AS NULL, \n",
            "\t[CustomAttribute16] NVARCHAR(4000) COLLATE SQL_Latin1_General_CP1_CI_AS NULL, \n",
            "\t[CustomAttribute17] NVARCHAR(4000) COLLATE SQL_Latin1_General_CP1_CI_AS NULL, \n",
            "\t[CustomAttribute18] NVARCHAR(4000) COLLATE SQL_Latin1_General_CP1_CI_AS NULL, \n",
            "\t[CustomAttribute19] NVARCHAR(4000) COLLATE SQL_Latin1_General_CP1_CI_AS NULL, \n",
            "\t[CustomAttribute20] NVARCHAR(4000) COLLATE SQL_Latin1_General_CP1_CI_AS NULL, \n",
            "\t[CustomAttribute21] NVARCHAR(4000) COLLATE SQL_Latin1_General_CP1_CI_AS NULL, \n",
            "\t[CustomAttribute22] NVARCHAR(4000) COLLATE SQL_Latin1_General_CP1_CI_AS NULL, \n",
            "\t[CustomAttribute23] NVARCHAR(4000) COLLATE SQL_Latin1_General_CP1_CI_AS NULL, \n",
            "\t[CustomAttribute24] NVARCHAR(4000) COLLATE SQL_Latin1_General_CP1_CI_AS NULL, \n",
            "\t[CustomAttribute25] NVARCHAR(4000) COLLATE SQL_Latin1_General_CP1_CI_AS NULL, \n",
            "\t[CustomAttribute26] NVARCHAR(4000) COLLATE SQL_Latin1_General_CP1_CI_AS NULL, \n",
            "\t[CustomAttribute27] NVARCHAR(4000) COLLATE SQL_Latin1_General_CP1_CI_AS NULL, \n",
            "\t[CustomAttribute28] NVARCHAR(4000) COLLATE SQL_Latin1_General_CP1_CI_AS NULL, \n",
            "\t[CustomAttribute29] NVARCHAR(4000) COLLATE SQL_Latin1_General_CP1_CI_AS NULL, \n",
            "\t[CustomAttribute30] NVARCHAR(4000) COLLATE SQL_Latin1_General_CP1_CI_AS NULL, \n",
            "\t[CustomAttribute31] NVARCHAR(4000) COLLATE SQL_Latin1_General_CP1_CI_AS NULL, \n",
            "\t[CustomAttribute32] NVARCHAR(4000) COLLATE SQL_Latin1_General_CP1_CI_AS NULL, \n",
            "\t[CustomAttribute33] NVARCHAR(4000) COLLATE SQL_Latin1_General_CP1_CI_AS NULL, \n",
            "\t[CustomAttribute34] NVARCHAR(4000) COLLATE SQL_Latin1_General_CP1_CI_AS NULL, \n",
            "\t[CustomAttribute35] NVARCHAR(4000) COLLATE SQL_Latin1_General_CP1_CI_AS NULL, \n",
            "\t[CustomAttribute36] NVARCHAR(4000) COLLATE SQL_Latin1_General_CP1_CI_AS NULL, \n",
            "\t[CustomAttribute37] NVARCHAR(4000) COLLATE SQL_Latin1_General_CP1_CI_AS NULL, \n",
            "\t[CustomAttribute38] NVARCHAR(4000) COLLATE SQL_Latin1_General_CP1_CI_AS NULL, \n",
            "\t[CustomAttribute39] NVARCHAR(4000) COLLATE SQL_Latin1_General_CP1_CI_AS NULL, \n",
            "\t[CustomAttribute40] NVARCHAR(4000) COLLATE SQL_Latin1_General_CP1_CI_AS NULL, \n",
            "\t[CustomAttribute41] NVARCHAR(4000) COLLATE SQL_Latin1_General_CP1_CI_AS NULL, \n",
            "\t[CustomAttribute42] NVARCHAR(4000) COLLATE SQL_Latin1_General_CP1_CI_AS NULL, \n",
            "\t[CustomAttribute43] NVARCHAR(4000) COLLATE SQL_Latin1_General_CP1_CI_AS NULL, \n",
            "\t[CustomAttribute44] NVARCHAR(4000) COLLATE SQL_Latin1_General_CP1_CI_AS NULL, \n",
            "\t[CustomAttribute45] NVARCHAR(4000) COLLATE SQL_Latin1_General_CP1_CI_AS NULL, \n",
            "\t[CustomAttribute46] NVARCHAR(4000) COLLATE SQL_Latin1_General_CP1_CI_AS NULL, \n",
            "\t[CustomAttribute47] NVARCHAR(4000) COLLATE SQL_Latin1_General_CP1_CI_AS NULL, \n",
            "\t[CustomAttribute48] NVARCHAR(4000) COLLATE SQL_Latin1_General_CP1_CI_AS NULL, \n",
            "\t[CustomAttribute49] NVARCHAR(4000) COLLATE SQL_Latin1_General_CP1_CI_AS NULL, \n",
            "\t[CustomAttribute50] NVARCHAR(4000) COLLATE SQL_Latin1_General_CP1_CI_AS NULL, \n",
            "\t[CustomAttribute51] NVARCHAR(4000) COLLATE SQL_Latin1_General_CP1_CI_AS NULL, \n",
            "\t[CustomAttribute52] NVARCHAR(4000) COLLATE SQL_Latin1_General_CP1_CI_AS NULL, \n",
            "\t[CustomAttribute53] NVARCHAR(4000) COLLATE SQL_Latin1_General_CP1_CI_AS NULL, \n",
            "\t[CustomAttribute54] NVARCHAR(4000) COLLATE SQL_Latin1_General_CP1_CI_AS NULL, \n",
            "\t[CustomAttribute55] NVARCHAR(4000) COLLATE SQL_Latin1_General_CP1_CI_AS NULL, \n",
            "\t[CustomAttribute56] NVARCHAR(4000) COLLATE SQL_Latin1_General_CP1_CI_AS NULL, \n",
            "\t[CustomAttribute57] NVARCHAR(4000) COLLATE SQL_Latin1_General_CP1_CI_AS NULL, \n",
            "\t[CustomAttribute58] NVARCHAR(4000) COLLATE SQL_Latin1_General_CP1_CI_AS NULL, \n",
            "\t[CustomAttribute59] NVARCHAR(4000) COLLATE SQL_Latin1_General_CP1_CI_AS NULL, \n",
            "\t[CustomAttribute60] NVARCHAR(4000) COLLATE SQL_Latin1_General_CP1_CI_AS NULL, \n",
            "\t[CustomAttribute61] NVARCHAR(4000) COLLATE SQL_Latin1_General_CP1_CI_AS NULL, \n",
            "\t[CustomAttribute62] NVARCHAR(4000) COLLATE SQL_Latin1_General_CP1_CI_AS NULL, \n",
            "\t[CustomAttribute63] NVARCHAR(4000) COLLATE SQL_Latin1_General_CP1_CI_AS NULL, \n",
            "\t[CustomAttribute64] NVARCHAR(4000) COLLATE SQL_Latin1_General_CP1_CI_AS NULL, \n",
            "\t[CustomAttribute65] NVARCHAR(4000) COLLATE SQL_Latin1_General_CP1_CI_AS NULL, \n",
            "\t[CustomAttribute66] NVARCHAR(4000) COLLATE SQL_Latin1_General_CP1_CI_AS NULL, \n",
            "\t[CustomAttribute67] NVARCHAR(4000) COLLATE SQL_Latin1_General_CP1_CI_AS NULL, \n",
            "\t[CustomAttribute68] NVARCHAR(4000) COLLATE SQL_Latin1_General_CP1_CI_AS NULL, \n",
            "\t[CustomAttribute69] NVARCHAR(4000) COLLATE SQL_Latin1_General_CP1_CI_AS NULL, \n",
            "\t[CustomAttribute70] NVARCHAR(4000) COLLATE SQL_Latin1_General_CP1_CI_AS NULL, \n",
            "\t[CustomAttribute71] NVARCHAR(4000) COLLATE SQL_Latin1_General_CP1_CI_AS NULL, \n",
            "\t[CustomAttribute72] NVARCHAR(4000) COLLATE SQL_Latin1_General_CP1_CI_AS NULL, \n",
            "\t[CustomAttribute73] NVARCHAR(4000) COLLATE SQL_Latin1_General_CP1_CI_AS NULL, \n",
            "\t[CustomAttribute74] NVARCHAR(4000) COLLATE SQL_Latin1_General_CP1_CI_AS NULL, \n",
            "\t[CustomAttribute75] NVARCHAR(4000) COLLATE SQL_Latin1_General_CP1_CI_AS NULL, \n",
            "\t[CustomAttribute76] NVARCHAR(4000) COLLATE SQL_Latin1_General_CP1_CI_AS NULL, \n",
            "\t[CustomAttribute77] NVARCHAR(4000) COLLATE SQL_Latin1_General_CP1_CI_AS NULL, \n",
            "\t[CustomAttribute78] NVARCHAR(4000) COLLATE SQL_Latin1_General_CP1_CI_AS NULL, \n",
            "\t[CustomAttribute79] NVARCHAR(4000) COLLATE SQL_Latin1_General_CP1_CI_AS NULL, \n",
            "\t[CustomAttribute80] NVARCHAR(4000) COLLATE SQL_Latin1_General_CP1_CI_AS NULL, \n",
            "\t[CustomAttribute81] NVARCHAR(4000) COLLATE SQL_Latin1_General_CP1_CI_AS NULL, \n",
            "\t[CustomAttribute82] NVARCHAR(4000) COLLATE SQL_Latin1_General_CP1_CI_AS NULL, \n",
            "\t[CustomAttribute83] NVARCHAR(4000) COLLATE SQL_Latin1_General_CP1_CI_AS NULL, \n",
            "\t[CustomAttribute84] NVARCHAR(4000) COLLATE SQL_Latin1_General_CP1_CI_AS NULL, \n",
            "\t[CustomAttribute85] NVARCHAR(4000) COLLATE SQL_Latin1_General_CP1_CI_AS NULL, \n",
            "\t[CustomAttribute86] NVARCHAR(4000) COLLATE SQL_Latin1_General_CP1_CI_AS NULL, \n",
            "\t[CustomAttribute87] NVARCHAR(4000) COLLATE SQL_Latin1_General_CP1_CI_AS NULL, \n",
            "\t[CustomAttribute88] NVARCHAR(4000) COLLATE SQL_Latin1_General_CP1_CI_AS NULL, \n",
            "\t[CustomAttribute89] NVARCHAR(4000) COLLATE SQL_Latin1_General_CP1_CI_AS NULL, \n",
            "\t[CustomAttribute90] NVARCHAR(4000) COLLATE SQL_Latin1_General_CP1_CI_AS NULL, \n",
            "\t[CustomAttribute91] NVARCHAR(4000) COLLATE SQL_Latin1_General_CP1_CI_AS NULL, \n",
            "\t[CustomAttribute92] NVARCHAR(4000) COLLATE SQL_Latin1_General_CP1_CI_AS NULL, \n",
            "\t[CustomAttribute93] NVARCHAR(4000) COLLATE SQL_Latin1_General_CP1_CI_AS NULL, \n",
            "\t[CustomAttribute94] NVARCHAR(4000) COLLATE SQL_Latin1_General_CP1_CI_AS NULL, \n",
            "\t[CustomAttribute95] NVARCHAR(4000) COLLATE SQL_Latin1_General_CP1_CI_AS NULL, \n",
            "\t[CustomAttribute96] NVARCHAR(4000) COLLATE SQL_Latin1_General_CP1_CI_AS NULL, \n",
            "\t[CustomAttribute97] NVARCHAR(4000) COLLATE SQL_Latin1_General_CP1_CI_AS NULL, \n",
            "\t[CustomAttribute98] NVARCHAR(4000) COLLATE SQL_Latin1_General_CP1_CI_AS NULL, \n",
            "\t[CustomAttribute99] NVARCHAR(4000) COLLATE SQL_Latin1_General_CP1_CI_AS NULL, \n",
            "\t[CustomAttribute100] NVARCHAR(4000) COLLATE SQL_Latin1_General_CP1_CI_AS NULL, \n",
            "\t[CustomAttribute101] NVARCHAR(4000) COLLATE SQL_Latin1_General_CP1_CI_AS NULL, \n",
            "\t[CustomAttribute102] NVARCHAR(4000) COLLATE SQL_Latin1_General_CP1_CI_AS NULL, \n",
            "\t[CustomAttribute103] NVARCHAR(4000) COLLATE SQL_Latin1_General_CP1_CI_AS NULL, \n",
            "\t[CustomAttribute104] NVARCHAR(4000) COLLATE SQL_Latin1_General_CP1_CI_AS NULL, \n",
            "\t[CustomAttribute105] NVARCHAR(4000) COLLATE SQL_Latin1_General_CP1_CI_AS NULL, \n",
            "\t[CustomAttribute106] NVARCHAR(4000) COLLATE SQL_Latin1_General_CP1_CI_AS NULL, \n",
            "\t[CustomAttribute107] NVARCHAR(4000) COLLATE SQL_Latin1_General_CP1_CI_AS NULL, \n",
            "\t[CustomAttribute108] NVARCHAR(4000) COLLATE SQL_Latin1_General_CP1_CI_AS NULL, \n",
            "\t[CustomAttribute109] NVARCHAR(4000) COLLATE SQL_Latin1_General_CP1_CI_AS NULL, \n",
            "\t[CustomAttribute110] NVARCHAR(4000) COLLATE SQL_Latin1_General_CP1_CI_AS NULL, \n",
            "\t[CustomAttribute111] NVARCHAR(4000) COLLATE SQL_Latin1_General_CP1_CI_AS NULL, \n",
            "\t[CustomAttribute112] NVARCHAR(4000) COLLATE SQL_Latin1_General_CP1_CI_AS NULL, \n",
            "\t[CustomAttribute113] NVARCHAR(4000) COLLATE SQL_Latin1_General_CP1_CI_AS NULL, \n",
            "\t[CustomAttribute114] NVARCHAR(4000) COLLATE SQL_Latin1_General_CP1_CI_AS NULL, \n",
            "\t[CustomAttribute115] NVARCHAR(4000) COLLATE SQL_Latin1_General_CP1_CI_AS NULL, \n",
            "\t[CustomAttribute116] NVARCHAR(4000) COLLATE SQL_Latin1_General_CP1_CI_AS NULL, \n",
            "\t[CustomAttribute117] NVARCHAR(4000) COLLATE SQL_Latin1_General_CP1_CI_AS NULL, \n",
            "\t[CustomAttribute118] NVARCHAR(4000) COLLATE SQL_Latin1_General_CP1_CI_AS NULL, \n",
            "\t[CustomAttribute119] NVARCHAR(4000) COLLATE SQL_Latin1_General_CP1_CI_AS NULL, \n",
            "\t[CustomAttribute120] NVARCHAR(4000) COLLATE SQL_Latin1_General_CP1_CI_AS NULL, \n",
            "\tCONSTRAINT [PK_membership] PRIMARY KEY (id, job_id)\n",
            ")\n",
            "\n",
            "/*\n",
            "1 rows from membership table:\n",
            "id\tjob_id\tsystem_id\taccount_id\tgroup_id\tentitlement_id\tm_group_id\tm_entitlement_id\tsystem_name\tapplication_name\tplatform_name\tacct_name\tgroup_name\tentitlement_name\tmemberOf\tis_privileged\tprivileged_tier\tsource_name\tValidFrom\tValidTo\tis_privileged_rule\tis_privileged_group_rule\thash_value\tCustomAttribute1\tCustomAttribute2\tCustomAttribute3\tCustomAttribute4\tCustomAttribute5\tmembership_type\tCustomAttribute6\tCustomAttribute7\tCustomAttribute8\tCustomAttribute9\tCustomAttribute10\tCustomAttribute11\tCustomAttribute12\tCustomAttribute13\tCustomAttribute14\tCustomAttribute15\tCustomAttribute16\tCustomAttribute17\tCustomAttribute18\tCustomAttribute19\tCustomAttribute20\tCustomAttribute21\tCustomAttribute22\tCustomAttribute23\tCustomAttribute24\tCustomAttribute25\tCustomAttribute26\tCustomAttribute27\tCustomAttribute28\tCustomAttribute29\tCustomAttribute30\tCustomAttribute31\tCustomAttribute32\tCustomAttribute33\tCustomAttribute34\tCustomAttribute35\tCustomAttribute36\tCustomAttribute37\tCustomAttribute38\tCustomAttribute39\tCustomAttribute40\tCustomAttribute41\tCustomAttribute42\tCustomAttribute43\tCustomAttribute44\tCustomAttribute45\tCustomAttribute46\tCustomAttribute47\tCustomAttribute48\tCustomAttribute49\tCustomAttribute50\tCustomAttribute51\tCustomAttribute52\tCustomAttribute53\tCustomAttribute54\tCustomAttribute55\tCustomAttribute56\tCustomAttribute57\tCustomAttribute58\tCustomAttribute59\tCustomAttribute60\tCustomAttribute61\tCustomAttribute62\tCustomAttribute63\tCustomAttribute64\tCustomAttribute65\tCustomAttribute66\tCustomAttribute67\tCustomAttribute68\tCustomAttribute69\tCustomAttribute70\tCustomAttribute71\tCustomAttribute72\tCustomAttribute73\tCustomAttribute74\tCustomAttribute75\tCustomAttribute76\tCustomAttribute77\tCustomAttribute78\tCustomAttribute79\tCustomAttribute80\tCustomAttribute81\tCustomAttribute82\tCustomAttribute83\tCustomAttribute84\tCustomAttribute85\tCustomAttribute86\tCustomAttribute87\tCustomAttribute88\tCustomAttribute89\tCustomAttribute90\tCustomAttribute91\tCustomAttribute92\tCustomAttribute93\tCustomAttribute94\tCustomAttribute95\tCustomAttribute96\tCustomAttribute97\tCustomAttribute98\tCustomAttribute99\tCustomAttribute100\tCustomAttribute101\tCustomAttribute102\tCustomAttribute103\tCustomAttribute104\tCustomAttribute105\tCustomAttribute106\tCustomAttribute107\tCustomAttribute108\tCustomAttribute109\tCustomAttribute110\tCustomAttribute111\tCustomAttribute112\tCustomAttribute113\tCustomAttribute114\tCustomAttribute115\tCustomAttribute116\tCustomAttribute117\tCustomAttribute118\tCustomAttribute119\tCustomAttribute120\n",
            "6128\t1638059970050055248\t113\t15666756\t4845\tNone\t4857\t46\t10.26.169.13\t\tLinux Server\tomsagent\t\tXYZ\t400442dd86d63721fb101b5f50e86bedd3e9601907bef43b7f9aea7f7cad9e0b\tNone\tNone\tLinuxServer-Membership_Test\t2022-12-07 13:12:07.240206\t9999-12-31 23:59:59.999999\tNone\tNone\t7566ef95-ce92-469c-85d9-23358333ef70\tHigh PARIS\tNone\tNone\tNone\tNone\t\tNone\tNone\tNone\tNone\tNone\tNone\tNone\tNone\tNone\tNone\tNone\tNone\tNone\tNone\tNone\tNone\tNone\tNone\tNone\tNone\tNone\tNone\tNone\tNone\tNone\tNone\tNone\tNone\tNone\tNone\tNone\tNone\tNone\tNone\tNone\tNone\tNone\tNone\tNone\tNone\tNone\tNone\tNone\tNone\tNone\tNone\tNone\tNone\tNone\tNone\tNone\tNone\tNone\tNone\tNone\tNone\tNone\tNone\tNone\tNone\tNone\tNone\tNone\tNone\tNone\tNone\tNone\tNone\tNone\tNone\tNone\tNone\tNone\tNone\tNone\tNone\tNone\tNone\tNone\tNone\tNone\tNone\tNone\tNone\tNone\tNone\tNone\tNone\tNone\tNone\tNone\tNone\tNone\tNone\tNone\tNone\tNone\tNone\tNone\tNone\tNone\tNone\tNone\tNone\tNone\tNone\tNone\tNone\tNone\tNone\tNone\tNone\tNone\tNone\tNone\n",
            "*/\n"
          ]
        }
      ],
      "source": [
        "print(db.dialect)\n",
        "print(db.get_usable_table_names())\n",
        "print(db.table_info)"
      ]
    },
    {
      "cell_type": "code",
      "execution_count": 6,
      "metadata": {
        "id": "Z6IfK8MV0wXy"
      },
      "outputs": [],
      "source": [
        "import os\n",
        "load_dotenv()\n",
        "\n",
        "openai.api_type = os.getenv('OPENAI_API_TYPE')\n",
        "openai.api_version = os.getenv('OPENAI_API_VERSION')\n",
        "openai.azure_endpoint = os.getenv('AZURE_OPENAI_ENDPOINT')\n",
        "openai.api_key = os.getenv(\"OPENAI_API_KEY\")"
      ]
    },
    {
      "cell_type": "code",
      "execution_count": 8,
      "metadata": {},
      "outputs": [],
      "source": [
        "from langchain.chains import create_sql_query_chain\n",
        "from langchain_openai import AzureChatOpenAI\n",
        "\n",
        "llm = AzureChatOpenAI(\n",
        "        deployment_name=\"nlp-gpt4\",\n",
        "        temperature=0.2,\n",
        "        max_tokens=900,\n",
        "        azure_endpoint=openai.azure_endpoint\n",
        "    )"
      ]
    },
    {
      "cell_type": "code",
      "execution_count": 9,
      "metadata": {
        "colab": {
          "base_uri": "https://localhost:8080/"
        },
        "id": "RiCC2ZNA006l",
        "outputId": "8d23dbdc-d221-47cc-e7d0-f96394dd11ed"
      },
      "outputs": [
        {
          "name": "stdout",
          "output_type": "stream",
          "text": [
            "SELECT TOP 1 [id] FROM dbo.[group] WHERE [group_name] = 'parisdev'\n"
          ]
        }
      ],
      "source": [
        "generate_query = create_sql_query_chain(llm, db)\n",
        "query = generate_query.invoke({\"question\": \"what is the group id of group name parisdev`\"})\n",
        "\n",
        "print(query)"
      ]
    },
    {
      "cell_type": "code",
      "execution_count": 10,
      "metadata": {
        "colab": {
          "base_uri": "https://localhost:8080/",
          "height": 35
        },
        "id": "_BxL9qfW1el6",
        "outputId": "254a2ff3-e3d8-4fb8-ba95-a94ce578808c"
      },
      "outputs": [
        {
          "data": {
            "text/plain": [
              "'[(4845,)]'"
            ]
          },
          "execution_count": 10,
          "metadata": {},
          "output_type": "execute_result"
        }
      ],
      "source": [
        "from langchain_community.tools.sql_database.tool import QuerySQLDataBaseTool\n",
        "execute_query = QuerySQLDataBaseTool(db=db)\n",
        "execute_query.invoke(query)"
      ]
    },
    {
      "cell_type": "code",
      "execution_count": 11,
      "metadata": {
        "colab": {
          "base_uri": "https://localhost:8080/",
          "height": 35
        },
        "id": "Kf2TzUe203vc",
        "outputId": "a2c1ad8e-2b78-4341-b442-99ba68697c13"
      },
      "outputs": [
        {
          "data": {
            "text/plain": [
              "'[(223,)]'"
            ]
          },
          "execution_count": 11,
          "metadata": {},
          "output_type": "execute_result"
        }
      ],
      "source": [
        "chain = generate_query | execute_query\n",
        "chain.invoke({\"question\": \"How many accounts are there in account table\"})"
      ]
    },
    {
      "cell_type": "code",
      "execution_count": 12,
      "metadata": {
        "colab": {
          "base_uri": "https://localhost:8080/"
        },
        "id": "WkyqNw9f1JE3",
        "outputId": "c979a3c6-1d8c-4787-dd07-b806cb7d55db"
      },
      "outputs": [
        {
          "name": "stdout",
          "output_type": "stream",
          "text": [
            "You are an MS SQL expert. Given an input question, first create a syntactically correct MS SQL query to run, then look at the results of the query and return the answer to the input question.\n",
            "Unless the user specifies in the question a specific number of examples to obtain, query for at most 5 results using the TOP clause as per MS SQL. You can order the results to return the most informative data in the database.\n",
            "Never query for all columns from a table. You must query only the columns that are needed to answer the question. Wrap each column name in square brackets ([]) to denote them as delimited identifiers.\n",
            "Pay attention to use only the column names you can see in the tables below. Be careful to not query for columns that do not exist. Also, pay attention to which column is in which table.\n",
            "Pay attention to use CAST(GETDATE() as date) function to get the current date, if the question involves \"today\".\n",
            "\n",
            "Use the following format:\n",
            "\n",
            "Question: Question here\n",
            "SQLQuery: SQL Query to run\n",
            "SQLResult: Result of the SQLQuery\n",
            "Answer: Final answer here\n",
            "\n",
            "Only use the following tables:\n",
            "\u001b[33;1m\u001b[1;3m{table_info}\u001b[0m\n",
            "\n",
            "Question: \u001b[33;1m\u001b[1;3m{input}\u001b[0m\n"
          ]
        }
      ],
      "source": [
        "chain.get_prompts()[0].pretty_print()"
      ]
    },
    {
      "cell_type": "code",
      "execution_count": 13,
      "metadata": {
        "colab": {
          "base_uri": "https://localhost:8080/",
          "height": 35
        },
        "id": "KVCYCPpU2s1d",
        "outputId": "3ea35814-8bc6-44eb-e106-f8c77922830a"
      },
      "outputs": [
        {
          "data": {
            "text/plain": [
              "'There are 223 accounts in the account table.'"
            ]
          },
          "execution_count": 13,
          "metadata": {},
          "output_type": "execute_result"
        }
      ],
      "source": [
        "from operator import itemgetter\n",
        "\n",
        "from langchain_core.output_parsers import StrOutputParser\n",
        "from langchain_core.prompts import PromptTemplate\n",
        "from langchain_core.runnables import RunnablePassthrough\n",
        "\n",
        "answer_prompt = PromptTemplate.from_template(\n",
        "    \"\"\"Given the following user question, corresponding SQL query, and SQL result, answer the user question.\n",
        "\n",
        "Question: {question}\n",
        "SQL Query: {query}\n",
        "SQL Result: {result}\n",
        "Answer: \"\"\"\n",
        ")\n",
        "\n",
        "rephrase_answer = answer_prompt | llm | StrOutputParser()\n",
        "\n",
        "chain = (\n",
        "    RunnablePassthrough.assign(query=generate_query).assign(\n",
        "        result=itemgetter(\"query\") | execute_query\n",
        "    )\n",
        "    | rephrase_answer\n",
        ")\n",
        "\n",
        "chain.invoke({\"question\": \"How many accounts are there in account table\"})"
      ]
    },
    {
      "cell_type": "markdown",
      "metadata": {
        "id": "uPkoDITyWfxG"
      },
      "source": [
        "###Adding few-shot examples"
      ]
    },
    {
      "cell_type": "code",
      "execution_count": 14,
      "metadata": {
        "id": "qJZ8vYwD3I4m"
      },
      "outputs": [],
      "source": [
        "examples = [\n",
        "    {\"input\": \"List all accounts.\", \"query\": \"SELECT * FROM [account];\"},\n",
        "    {\n",
        "        \"input\": \"Count account ID of account name adm?\",\n",
        "        \"query\": \"SELECT COUNT(ID) FROM [account] WHERE acct_name ='bin';\",\n",
        "    },\n",
        "    {\n",
        "        \"input\": \"List all group having platform name 'Linux Server'\",\n",
        "        \"query\": \"SELECT g.* FROM [group] g JOIN [membership] m ON g.id = m.m_group_id JOIN [account] a ON a.id = m.account_id WHERE a.platform_name='Linux Server';\",\n",
        "    },\n",
        "    {\n",
        "        \"input\": \"Consider display name as user name and provide all the user name where group name is Parisdev'\",\n",
        "         \"query\": \"SELECT a.display_name AS user_name FROM [account] a INNER JOIN [membership] m ON a.id = m.account_id INNER JOIN [group] g ON m.m_group_id = g.id WHERE g.group_name = 'Parisdev';\",\n",
        "    },\n",
        "    {\n",
        "        \"input\": \"Provide group name for account name root\",\n",
        "         \"query\": \"SELECT g.group_name FROM [group] g INNER JOIN [membership] m ON g.id = m.m_group_id INNER JOIN [account] a ON m.account_id = a.id WHERE a.acct_name = 'root';\",\n",
        "    },\n",
        "]"
      ]
    },
    {
      "cell_type": "code",
      "execution_count": 15,
      "metadata": {
        "colab": {
          "base_uri": "https://localhost:8080/"
        },
        "id": "H3sLLayg3WV6",
        "outputId": "23f9b669-968f-4666-d78b-5ec08aa2d381"
      },
      "outputs": [
        {
          "name": "stdout",
          "output_type": "stream",
          "text": [
            "Human: List all accounts.\n",
            "SQLQuery:\n",
            "AI: SELECT * FROM [account];\n",
            "Human: Count account ID of account name adm?\n",
            "SQLQuery:\n",
            "AI: SELECT COUNT(ID) FROM [account] WHERE acct_name ='bin';\n",
            "Human: List all group having platform name 'Linux Server'\n",
            "SQLQuery:\n",
            "AI: SELECT g.* FROM [group] g JOIN [membership] m ON g.id = m.m_group_id JOIN [account] a ON a.id = m.account_id WHERE a.platform_name='Linux Server';\n",
            "Human: Consider display name as user name and provide all the user name where group name is Parisdev'\n",
            "SQLQuery:\n",
            "AI: SELECT a.display_name AS user_name FROM [account] a INNER JOIN [membership] m ON a.id = m.account_id INNER JOIN [group] g ON m.m_group_id = g.id WHERE g.group_name = 'Parisdev';\n",
            "Human: Provide group name for account name root\n",
            "SQLQuery:\n",
            "AI: SELECT g.group_name FROM [group] g INNER JOIN [membership] m ON g.id = m.m_group_id INNER JOIN [account] a ON m.account_id = a.id WHERE a.acct_name = 'root';\n"
          ]
        }
      ],
      "source": [
        "from langchain_core.prompts import ChatPromptTemplate, MessagesPlaceholder,FewShotChatMessagePromptTemplate,PromptTemplate\n",
        "\n",
        "example_prompt = ChatPromptTemplate.from_messages(\n",
        "    [\n",
        "        (\"human\", \"{input}\\nSQLQuery:\"),\n",
        "        (\"ai\", \"{query}\"),\n",
        "    ]\n",
        ")\n",
        "few_shot_prompt = FewShotChatMessagePromptTemplate(\n",
        "    example_prompt=example_prompt,\n",
        "    examples=examples,\n",
        "    # input_variables=[\"input\",\"top_k\"],\n",
        "    input_variables=[\"input\"],\n",
        ")\n",
        "print(few_shot_prompt.format(input1=\"How many groups are there?\"))"
      ]
    },
    {
      "cell_type": "code",
      "execution_count": 16,
      "metadata": {},
      "outputs": [
        {
          "name": "stdout",
          "output_type": "stream",
          "text": [
            "Human: List all accounts.\n",
            "SQLQuery:\n",
            "AI: SELECT * FROM [account];\n",
            "Human: Count account ID of account name adm?\n",
            "SQLQuery:\n",
            "AI: SELECT COUNT(ID) FROM [account] WHERE acct_name ='bin';\n",
            "Human: List all group having platform name 'Linux Server'\n",
            "SQLQuery:\n",
            "AI: SELECT g.* FROM [group] g JOIN [membership] m ON g.id = m.m_group_id JOIN [account] a ON a.id = m.account_id WHERE a.platform_name='Linux Server';\n",
            "Human: Consider display name as user name and provide all the user name where group name is Parisdev'\n",
            "SQLQuery:\n",
            "AI: SELECT a.display_name AS user_name FROM [account] a INNER JOIN [membership] m ON a.id = m.account_id INNER JOIN [group] g ON m.m_group_id = g.id WHERE g.group_name = 'Parisdev';\n",
            "Human: Provide group name for account name root\n",
            "SQLQuery:\n",
            "AI: SELECT g.group_name FROM [group] g INNER JOIN [membership] m ON g.id = m.m_group_id INNER JOIN [account] a ON m.account_id = a.id WHERE a.acct_name = 'root';\n"
          ]
        }
      ],
      "source": [
        "print(few_shot_prompt.format(input=\"tell me group name of account root?\"))"
      ]
    },
    {
      "cell_type": "markdown",
      "metadata": {
        "id": "JRjiZ1O-WkX5"
      },
      "source": [
        "###Dynamic few-shot example selection"
      ]
    },
    {
      "cell_type": "code",
      "execution_count": 17,
      "metadata": {},
      "outputs": [
        {
          "data": {
            "text/plain": [
              "<function dotenv.main.load_dotenv(dotenv_path: Union[str, ForwardRef('os.PathLike[str]'), NoneType] = None, stream: Optional[IO[str]] = None, verbose: bool = False, override: bool = False, interpolate: bool = True, encoding: Optional[str] = 'utf-8') -> bool>"
            ]
          },
          "execution_count": 17,
          "metadata": {},
          "output_type": "execute_result"
        }
      ],
      "source": [
        "load_dotenv"
      ]
    },
    {
      "cell_type": "code",
      "execution_count": 18,
      "metadata": {},
      "outputs": [],
      "source": [
        "from langchain_community.vectorstores import Chroma\n",
        "from langchain_core.example_selectors import SemanticSimilarityExampleSelector\n",
        "from langchain.embeddings.azure_openai import AzureOpenAIEmbeddings\n"
      ]
    },
    {
      "cell_type": "code",
      "execution_count": 17,
      "metadata": {},
      "outputs": [
        {
          "name": "stdout",
          "output_type": "stream",
          "text": [
            "Requirement already satisfied: langchain_elasticsearch in c:\\users\\jv976gt\\onedrive - ey\\desktop\\paris\\genai\\repo\\cyberops-ai-api\\src\\myenv\\lib\\site-packages (0.1.1)\n",
            "Requirement already satisfied: elasticsearch<9.0.0,>=8.12.0 in c:\\users\\jv976gt\\onedrive - ey\\desktop\\paris\\genai\\repo\\cyberops-ai-api\\src\\myenv\\lib\\site-packages (from langchain_elasticsearch) (8.13.0)\n",
            "Requirement already satisfied: langchain-core<0.2,>=0.1 in c:\\users\\jv976gt\\onedrive - ey\\desktop\\paris\\genai\\repo\\cyberops-ai-api\\src\\myenv\\lib\\site-packages (from langchain_elasticsearch) (0.1.48)\n",
            "Requirement already satisfied: numpy<2,>=1 in c:\\users\\jv976gt\\onedrive - ey\\desktop\\paris\\genai\\repo\\cyberops-ai-api\\src\\myenv\\lib\\site-packages (from langchain_elasticsearch) (1.26.4)\n",
            "Requirement already satisfied: elastic-transport<9,>=8.13 in c:\\users\\jv976gt\\onedrive - ey\\desktop\\paris\\genai\\repo\\cyberops-ai-api\\src\\myenv\\lib\\site-packages (from elasticsearch<9.0.0,>=8.12.0->langchain_elasticsearch) (8.13.0)\n",
            "Requirement already satisfied: PyYAML>=5.3 in c:\\users\\jv976gt\\onedrive - ey\\desktop\\paris\\genai\\repo\\cyberops-ai-api\\src\\myenv\\lib\\site-packages (from langchain-core<0.2,>=0.1->langchain_elasticsearch) (6.0.1)\n",
            "Requirement already satisfied: jsonpatch<2.0,>=1.33 in c:\\users\\jv976gt\\onedrive - ey\\desktop\\paris\\genai\\repo\\cyberops-ai-api\\src\\myenv\\lib\\site-packages (from langchain-core<0.2,>=0.1->langchain_elasticsearch) (1.33)\n",
            "Requirement already satisfied: langsmith<0.2.0,>=0.1.0 in c:\\users\\jv976gt\\onedrive - ey\\desktop\\paris\\genai\\repo\\cyberops-ai-api\\src\\myenv\\lib\\site-packages (from langchain-core<0.2,>=0.1->langchain_elasticsearch) (0.1.31)\n",
            "Requirement already satisfied: packaging<24.0,>=23.2 in c:\\users\\jv976gt\\onedrive - ey\\desktop\\paris\\genai\\repo\\cyberops-ai-api\\src\\myenv\\lib\\site-packages (from langchain-core<0.2,>=0.1->langchain_elasticsearch) (23.2)\n",
            "Requirement already satisfied: pydantic<3,>=1 in c:\\users\\jv976gt\\onedrive - ey\\desktop\\paris\\genai\\repo\\cyberops-ai-api\\src\\myenv\\lib\\site-packages (from langchain-core<0.2,>=0.1->langchain_elasticsearch) (2.6.4)\n",
            "Requirement already satisfied: tenacity<9.0.0,>=8.1.0 in c:\\users\\jv976gt\\onedrive - ey\\desktop\\paris\\genai\\repo\\cyberops-ai-api\\src\\myenv\\lib\\site-packages (from langchain-core<0.2,>=0.1->langchain_elasticsearch) (8.2.3)\n",
            "Requirement already satisfied: urllib3<3,>=1.26.2 in c:\\users\\jv976gt\\onedrive - ey\\desktop\\paris\\genai\\repo\\cyberops-ai-api\\src\\myenv\\lib\\site-packages (from elastic-transport<9,>=8.13->elasticsearch<9.0.0,>=8.12.0->langchain_elasticsearch) (2.2.1)\n",
            "Requirement already satisfied: certifi in c:\\users\\jv976gt\\onedrive - ey\\desktop\\paris\\genai\\repo\\cyberops-ai-api\\src\\myenv\\lib\\site-packages (from elastic-transport<9,>=8.13->elasticsearch<9.0.0,>=8.12.0->langchain_elasticsearch) (2024.2.2)\n",
            "Requirement already satisfied: jsonpointer>=1.9 in c:\\users\\jv976gt\\onedrive - ey\\desktop\\paris\\genai\\repo\\cyberops-ai-api\\src\\myenv\\lib\\site-packages (from jsonpatch<2.0,>=1.33->langchain-core<0.2,>=0.1->langchain_elasticsearch) (2.4)\n",
            "Requirement already satisfied: orjson<4.0.0,>=3.9.14 in c:\\users\\jv976gt\\onedrive - ey\\desktop\\paris\\genai\\repo\\cyberops-ai-api\\src\\myenv\\lib\\site-packages (from langsmith<0.2.0,>=0.1.0->langchain-core<0.2,>=0.1->langchain_elasticsearch) (3.9.15)\n",
            "Requirement already satisfied: requests<3,>=2 in c:\\users\\jv976gt\\onedrive - ey\\desktop\\paris\\genai\\repo\\cyberops-ai-api\\src\\myenv\\lib\\site-packages (from langsmith<0.2.0,>=0.1.0->langchain-core<0.2,>=0.1->langchain_elasticsearch) (2.31.0)\n",
            "Requirement already satisfied: annotated-types>=0.4.0 in c:\\users\\jv976gt\\onedrive - ey\\desktop\\paris\\genai\\repo\\cyberops-ai-api\\src\\myenv\\lib\\site-packages (from pydantic<3,>=1->langchain-core<0.2,>=0.1->langchain_elasticsearch) (0.6.0)\n",
            "Requirement already satisfied: pydantic-core==2.16.3 in c:\\users\\jv976gt\\onedrive - ey\\desktop\\paris\\genai\\repo\\cyberops-ai-api\\src\\myenv\\lib\\site-packages (from pydantic<3,>=1->langchain-core<0.2,>=0.1->langchain_elasticsearch) (2.16.3)\n",
            "Requirement already satisfied: typing-extensions>=4.6.1 in c:\\users\\jv976gt\\onedrive - ey\\desktop\\paris\\genai\\repo\\cyberops-ai-api\\src\\myenv\\lib\\site-packages (from pydantic<3,>=1->langchain-core<0.2,>=0.1->langchain_elasticsearch) (4.10.0)\n",
            "Requirement already satisfied: charset-normalizer<4,>=2 in c:\\users\\jv976gt\\onedrive - ey\\desktop\\paris\\genai\\repo\\cyberops-ai-api\\src\\myenv\\lib\\site-packages (from requests<3,>=2->langsmith<0.2.0,>=0.1.0->langchain-core<0.2,>=0.1->langchain_elasticsearch) (3.3.2)\n",
            "Requirement already satisfied: idna<4,>=2.5 in c:\\users\\jv976gt\\onedrive - ey\\desktop\\paris\\genai\\repo\\cyberops-ai-api\\src\\myenv\\lib\\site-packages (from requests<3,>=2->langsmith<0.2.0,>=0.1.0->langchain-core<0.2,>=0.1->langchain_elasticsearch) (3.6)\n",
            "Note: you may need to restart the kernel to use updated packages.\n"
          ]
        }
      ],
      "source": [
        "pip install langchain_elasticsearch"
      ]
    },
    {
      "cell_type": "code",
      "execution_count": 22,
      "metadata": {},
      "outputs": [],
      "source": [
        "#OPENAI_EMBEDDING_DEPLOYMENT_NAME =  \"text-embedding-ada-002-cybercti\"\n",
        "#embeddings = AzureOpenAIEmbeddings(deployment=OPENAI_EMBEDDING_DEPLOYMENT_NAME, )"
      ]
    },
    {
      "cell_type": "code",
      "execution_count": 34,
      "metadata": {},
      "outputs": [
        {
          "name": "stdout",
          "output_type": "stream",
          "text": [
            "Collecting sentence-transformers\n",
            "  Using cached sentence_transformers-2.7.0-py3-none-any.whl.metadata (11 kB)\n",
            "Collecting transformers<5.0.0,>=4.34.0 (from sentence-transformers)\n",
            "  Using cached transformers-4.40.2-py3-none-any.whl.metadata (137 kB)\n",
            "Requirement already satisfied: tqdm in c:\\users\\jv976gt\\onedrive - ey\\desktop\\paris\\genai\\repo\\cyberops-ai-api\\src\\myenv\\lib\\site-packages (from sentence-transformers) (4.66.2)\n",
            "Requirement already satisfied: torch>=1.11.0 in c:\\users\\jv976gt\\onedrive - ey\\desktop\\paris\\genai\\repo\\cyberops-ai-api\\src\\myenv\\lib\\site-packages (from sentence-transformers) (2.2.2)\n",
            "Requirement already satisfied: numpy in c:\\users\\jv976gt\\onedrive - ey\\desktop\\paris\\genai\\repo\\cyberops-ai-api\\src\\myenv\\lib\\site-packages (from sentence-transformers) (1.26.4)\n",
            "Collecting scikit-learn (from sentence-transformers)\n",
            "  Using cached scikit_learn-1.4.2-cp312-cp312-win_amd64.whl.metadata (11 kB)\n",
            "Requirement already satisfied: scipy in c:\\users\\jv976gt\\onedrive - ey\\desktop\\paris\\genai\\repo\\cyberops-ai-api\\src\\myenv\\lib\\site-packages (from sentence-transformers) (1.12.0)\n",
            "Requirement already satisfied: huggingface-hub>=0.15.1 in c:\\users\\jv976gt\\onedrive - ey\\desktop\\paris\\genai\\repo\\cyberops-ai-api\\src\\myenv\\lib\\site-packages (from sentence-transformers) (0.22.2)\n",
            "Requirement already satisfied: Pillow in c:\\users\\jv976gt\\onedrive - ey\\desktop\\paris\\genai\\repo\\cyberops-ai-api\\src\\myenv\\lib\\site-packages (from sentence-transformers) (10.2.0)\n",
            "Requirement already satisfied: filelock in c:\\users\\jv976gt\\onedrive - ey\\desktop\\paris\\genai\\repo\\cyberops-ai-api\\src\\myenv\\lib\\site-packages (from huggingface-hub>=0.15.1->sentence-transformers) (3.13.3)\n",
            "Requirement already satisfied: fsspec>=2023.5.0 in c:\\users\\jv976gt\\onedrive - ey\\desktop\\paris\\genai\\repo\\cyberops-ai-api\\src\\myenv\\lib\\site-packages (from huggingface-hub>=0.15.1->sentence-transformers) (2024.3.1)\n",
            "Requirement already satisfied: packaging>=20.9 in c:\\users\\jv976gt\\onedrive - ey\\desktop\\paris\\genai\\repo\\cyberops-ai-api\\src\\myenv\\lib\\site-packages (from huggingface-hub>=0.15.1->sentence-transformers) (23.2)\n",
            "Requirement already satisfied: pyyaml>=5.1 in c:\\users\\jv976gt\\onedrive - ey\\desktop\\paris\\genai\\repo\\cyberops-ai-api\\src\\myenv\\lib\\site-packages (from huggingface-hub>=0.15.1->sentence-transformers) (6.0.1)\n",
            "Requirement already satisfied: requests in c:\\users\\jv976gt\\onedrive - ey\\desktop\\paris\\genai\\repo\\cyberops-ai-api\\src\\myenv\\lib\\site-packages (from huggingface-hub>=0.15.1->sentence-transformers) (2.31.0)\n",
            "Requirement already satisfied: typing-extensions>=3.7.4.3 in c:\\users\\jv976gt\\onedrive - ey\\desktop\\paris\\genai\\repo\\cyberops-ai-api\\src\\myenv\\lib\\site-packages (from huggingface-hub>=0.15.1->sentence-transformers) (4.10.0)\n",
            "Requirement already satisfied: sympy in c:\\users\\jv976gt\\onedrive - ey\\desktop\\paris\\genai\\repo\\cyberops-ai-api\\src\\myenv\\lib\\site-packages (from torch>=1.11.0->sentence-transformers) (1.12)\n",
            "Requirement already satisfied: networkx in c:\\users\\jv976gt\\onedrive - ey\\desktop\\paris\\genai\\repo\\cyberops-ai-api\\src\\myenv\\lib\\site-packages (from torch>=1.11.0->sentence-transformers) (3.2.1)\n",
            "Requirement already satisfied: jinja2 in c:\\users\\jv976gt\\onedrive - ey\\desktop\\paris\\genai\\repo\\cyberops-ai-api\\src\\myenv\\lib\\site-packages (from torch>=1.11.0->sentence-transformers) (3.1.3)\n",
            "Requirement already satisfied: colorama in c:\\users\\jv976gt\\onedrive - ey\\desktop\\paris\\genai\\repo\\cyberops-ai-api\\src\\myenv\\lib\\site-packages (from tqdm->sentence-transformers) (0.4.6)\n",
            "Requirement already satisfied: regex!=2019.12.17 in c:\\users\\jv976gt\\onedrive - ey\\desktop\\paris\\genai\\repo\\cyberops-ai-api\\src\\myenv\\lib\\site-packages (from transformers<5.0.0,>=4.34.0->sentence-transformers) (2023.12.25)\n",
            "Collecting tokenizers<0.20,>=0.19 (from transformers<5.0.0,>=4.34.0->sentence-transformers)\n",
            "  Using cached tokenizers-0.19.1-cp312-none-win_amd64.whl.metadata (6.9 kB)\n",
            "Collecting safetensors>=0.4.1 (from transformers<5.0.0,>=4.34.0->sentence-transformers)\n",
            "  Using cached safetensors-0.4.3-cp312-none-win_amd64.whl.metadata (3.9 kB)\n",
            "Requirement already satisfied: joblib>=1.2.0 in c:\\users\\jv976gt\\onedrive - ey\\desktop\\paris\\genai\\repo\\cyberops-ai-api\\src\\myenv\\lib\\site-packages (from scikit-learn->sentence-transformers) (1.3.2)\n",
            "Collecting threadpoolctl>=2.0.0 (from scikit-learn->sentence-transformers)\n",
            "  Using cached threadpoolctl-3.5.0-py3-none-any.whl.metadata (13 kB)\n",
            "Requirement already satisfied: MarkupSafe>=2.0 in c:\\users\\jv976gt\\onedrive - ey\\desktop\\paris\\genai\\repo\\cyberops-ai-api\\src\\myenv\\lib\\site-packages (from jinja2->torch>=1.11.0->sentence-transformers) (2.1.5)\n",
            "Requirement already satisfied: charset-normalizer<4,>=2 in c:\\users\\jv976gt\\onedrive - ey\\desktop\\paris\\genai\\repo\\cyberops-ai-api\\src\\myenv\\lib\\site-packages (from requests->huggingface-hub>=0.15.1->sentence-transformers) (3.3.2)\n",
            "Requirement already satisfied: idna<4,>=2.5 in c:\\users\\jv976gt\\onedrive - ey\\desktop\\paris\\genai\\repo\\cyberops-ai-api\\src\\myenv\\lib\\site-packages (from requests->huggingface-hub>=0.15.1->sentence-transformers) (3.6)\n",
            "Requirement already satisfied: urllib3<3,>=1.21.1 in c:\\users\\jv976gt\\onedrive - ey\\desktop\\paris\\genai\\repo\\cyberops-ai-api\\src\\myenv\\lib\\site-packages (from requests->huggingface-hub>=0.15.1->sentence-transformers) (2.2.1)\n",
            "Requirement already satisfied: certifi>=2017.4.17 in c:\\users\\jv976gt\\onedrive - ey\\desktop\\paris\\genai\\repo\\cyberops-ai-api\\src\\myenv\\lib\\site-packages (from requests->huggingface-hub>=0.15.1->sentence-transformers) (2024.2.2)\n",
            "Requirement already satisfied: mpmath>=0.19 in c:\\users\\jv976gt\\onedrive - ey\\desktop\\paris\\genai\\repo\\cyberops-ai-api\\src\\myenv\\lib\\site-packages (from sympy->torch>=1.11.0->sentence-transformers) (1.3.0)\n",
            "Using cached sentence_transformers-2.7.0-py3-none-any.whl (171 kB)\n",
            "Using cached transformers-4.40.2-py3-none-any.whl (9.0 MB)\n",
            "Using cached scikit_learn-1.4.2-cp312-cp312-win_amd64.whl (10.6 MB)\n",
            "Using cached safetensors-0.4.3-cp312-none-win_amd64.whl (289 kB)\n",
            "Using cached threadpoolctl-3.5.0-py3-none-any.whl (18 kB)\n",
            "Using cached tokenizers-0.19.1-cp312-none-win_amd64.whl (2.2 MB)\n",
            "Installing collected packages: threadpoolctl, safetensors, scikit-learn, tokenizers, transformers, sentence-transformers\n",
            "  Attempting uninstall: tokenizers\n",
            "    Found existing installation: tokenizers 0.15.2\n",
            "    Uninstalling tokenizers-0.15.2:\n",
            "      Successfully uninstalled tokenizers-0.15.2\n",
            "Successfully installed safetensors-0.4.3 scikit-learn-1.4.2 sentence-transformers-2.7.0 threadpoolctl-3.5.0 tokenizers-0.19.1 transformers-4.40.2\n"
          ]
        },
        {
          "name": "stderr",
          "output_type": "stream",
          "text": [
            "  WARNING: Failed to remove contents in a temporary directory 'C:\\Users\\JV976GT\\OneDrive - EY\\Desktop\\Paris\\GenAi\\Repo\\cyberops-ai-api\\src\\myenv\\Lib\\site-packages\\~okenizers'.\n",
            "  You can safely remove it manually.\n"
          ]
        }
      ],
      "source": [
        "! pip install sentence-transformers"
      ]
    },
    {
      "cell_type": "code",
      "execution_count": 19,
      "metadata": {},
      "outputs": [
        {
          "name": "stderr",
          "output_type": "stream",
          "text": [
            "c:\\Users\\JV976GT\\OneDrive - EY\\Desktop\\Paris\\GenAi\\Repo\\cyberops-ai-api\\src\\myenv\\Lib\\site-packages\\tqdm\\auto.py:21: TqdmWarning: IProgress not found. Please update jupyter and ipywidgets. See https://ipywidgets.readthedocs.io/en/stable/user_install.html\n",
            "  from .autonotebook import tqdm as notebook_tqdm\n"
          ]
        }
      ],
      "source": [
        "from langchain.prompts import SemanticSimilarityExampleSelector\n",
        "from langchain.embeddings import HuggingFaceEmbeddings\n",
        "from langchain.vectorstores import Chroma\n",
        "\n",
        "\n",
        "embeddings = HuggingFaceEmbeddings(model_name='sentence-transformers/all-MiniLM-L6-v2')\n",
        "\n",
        "to_vectorize = [\" \".join(example.values()) for example in examples]"
      ]
    },
    {
      "cell_type": "code",
      "execution_count": 20,
      "metadata": {},
      "outputs": [
        {
          "data": {
            "text/plain": [
              "['List all accounts. SELECT * FROM [account];',\n",
              " \"Count account ID of account name adm? SELECT COUNT(ID) FROM [account] WHERE acct_name ='bin';\",\n",
              " \"List all group having platform name 'Linux Server' SELECT g.* FROM [group] g JOIN [membership] m ON g.id = m.m_group_id JOIN [account] a ON a.id = m.account_id WHERE a.platform_name='Linux Server';\",\n",
              " \"Consider display name as user name and provide all the user name where group name is Parisdev' SELECT a.display_name AS user_name FROM [account] a INNER JOIN [membership] m ON a.id = m.account_id INNER JOIN [group] g ON m.m_group_id = g.id WHERE g.group_name = 'Parisdev';\",\n",
              " \"Provide group name for account name root SELECT g.group_name FROM [group] g INNER JOIN [membership] m ON g.id = m.m_group_id INNER JOIN [account] a ON m.account_id = a.id WHERE a.acct_name = 'root';\"]"
            ]
          },
          "execution_count": 20,
          "metadata": {},
          "output_type": "execute_result"
        }
      ],
      "source": [
        "to_vectorize"
      ]
    },
    {
      "cell_type": "code",
      "execution_count": 21,
      "metadata": {},
      "outputs": [],
      "source": [
        "vectorstore = Chroma.from_texts(to_vectorize, embeddings, metadatas=examples)"
      ]
    },
    {
      "cell_type": "code",
      "execution_count": 22,
      "metadata": {},
      "outputs": [
        {
          "data": {
            "text/plain": [
              "[{'input': 'List all accounts.', 'query': 'SELECT * FROM [account];'},\n",
              " {'input': 'Count account ID of account name adm?',\n",
              "  'query': \"SELECT COUNT(ID) FROM [account] WHERE acct_name ='bin';\"}]"
            ]
          },
          "execution_count": 22,
          "metadata": {},
          "output_type": "execute_result"
        }
      ],
      "source": [
        "example_selector = SemanticSimilarityExampleSelector(\n",
        "    vectorstore=vectorstore,\n",
        "    k=2,\n",
        ")\n",
        "\n",
        "example_selector.select_examples({\"Question\": \"How many accounts are there?\"})"
      ]
    },
    {
      "cell_type": "code",
      "execution_count": 23,
      "metadata": {},
      "outputs": [],
      "source": [
        "### my sql based instruction prompt\n",
        "mssql_prompt = \"\"\"You are a MsSQL expert. Given an input question, first create a syntactically correct MySQL query to run, then look at the results of the query and return the answer to the input question.\n",
        "Unless the user specifies in the question a specific number of examples to obtain, query for at most {top_k} results using the LIMIT clause as per MySQL. You can order the results to return the most informative data in the database.\n",
        "Never query for all columns from a table. You must query only the columns that are needed to answer the question. Wrap each column name in backticks (`) to denote them as delimited identifiers.\n",
        "Pay attention to use only the column names you can see in the tables below. Be careful to not query for columns that do not exist. Also, pay attention to which column is in which table.\n",
        "Pay attention to use CURDATE() function to get the current date, if the question involves \"today\".\n",
        "\n",
        "Use the following format:\n",
        "\n",
        "Question: Question here\n",
        "SQLQuery: Query to run with no pre-amble\n",
        "SQLResult: Result of the SQLQuery\n",
        "Answer: Final answer here\n",
        "\n",
        "No pre-amble.\n",
        "\"\"\""
      ]
    },
    {
      "cell_type": "code",
      "execution_count": 24,
      "metadata": {},
      "outputs": [
        {
          "name": "stdout",
          "output_type": "stream",
          "text": [
            "Only use the following tables:\n",
            "{table_info}\n",
            "\n",
            "Question: {input}\n"
          ]
        }
      ],
      "source": [
        "from langchain.prompts import FewShotPromptTemplate\n",
        "from langchain.chains.sql_database.prompt import PROMPT_SUFFIX, _mssql_prompt\n",
        "\n",
        "print(PROMPT_SUFFIX)"
      ]
    },
    {
      "cell_type": "code",
      "execution_count": 25,
      "metadata": {},
      "outputs": [],
      "source": [
        "from langchain.prompts.prompt import PromptTemplate\n",
        "\n",
        "example_prompt = PromptTemplate(\n",
        "    input_variables=[\"Question\"],\n",
        "    template=\"\\nQuestion: {input}\",\n",
        ")"
      ]
    },
    {
      "cell_type": "code",
      "execution_count": 33,
      "metadata": {},
      "outputs": [],
      "source": [
        "from langchain.prompts.prompt import PromptTemplate\n",
        "\n",
        "#example_prompt = PromptTemplate(\n",
        "    #input_variables=[\"Question\", \"SQLQuery\", \"SQLResult\",\"Answer\",],\n",
        "    #template=\"\\nQuestion: {Question}\\nSQLQuery: {SQLQuery}\\nSQLResult: {SQLResult}\\nAnswer: {Answer}\",\n",
        "#)"
      ]
    },
    {
      "cell_type": "code",
      "execution_count": 26,
      "metadata": {},
      "outputs": [
        {
          "name": "stdout",
          "output_type": "stream",
          "text": [
            "You are an MS SQL expert. Given an input question, first create a syntactically correct MS SQL query to run, then look at the results of the query and return the answer to the input question.\n",
            "Unless the user specifies in the question a specific number of examples to obtain, query for at most {top_k} results using the TOP clause as per MS SQL. You can order the results to return the most informative data in the database.\n",
            "Never query for all columns from a table. You must query only the columns that are needed to answer the question. Wrap each column name in square brackets ([]) to denote them as delimited identifiers.\n",
            "Pay attention to use only the column names you can see in the tables below. Be careful to not query for columns that do not exist. Also, pay attention to which column is in which table.\n",
            "Pay attention to use CAST(GETDATE() as date) function to get the current date, if the question involves \"today\".\n",
            "\n",
            "Use the following format:\n",
            "\n",
            "Question: Question here\n",
            "SQLQuery: SQL Query to run\n",
            "SQLResult: Result of the SQLQuery\n",
            "Answer: Final answer here\n",
            "\n",
            "\n"
          ]
        }
      ],
      "source": [
        "print(_mssql_prompt)"
      ]
    },
    {
      "cell_type": "code",
      "execution_count": 28,
      "metadata": {},
      "outputs": [
        {
          "data": {
            "text/plain": [
              "[{'input': 'Provide group name for account name root',\n",
              "  'query': \"SELECT g.group_name FROM [group] g INNER JOIN [membership] m ON g.id = m.m_group_id INNER JOIN [account] a ON m.account_id = a.id WHERE a.acct_name = 'root';\"}]"
            ]
          },
          "execution_count": 28,
          "metadata": {},
          "output_type": "execute_result"
        }
      ],
      "source": [
        "#vectorstore = Chroma()\n",
        "#vectorstore.delete_collection()\n",
        "example_selector = SemanticSimilarityExampleSelector.from_examples(\n",
        "    examples,\n",
        "    embeddings,\n",
        "    vectorstore,\n",
        "    k=1,\n",
        "    input_keys=[\"input\"],\n",
        ")\n",
        "example_selector.select_examples({\"input\": \"provide all the user name where group name is root'?\"})"
      ]
    },
    {
      "cell_type": "code",
      "execution_count": 29,
      "metadata": {},
      "outputs": [],
      "source": [
        "from langchain.prompts.prompt import PromptTemplate\n",
        "\n",
        "example_prompt = PromptTemplate(\n",
        "    input_variables=[\"Question\"],\n",
        "    template=\"\\nQuestion: {input}\",\n",
        ")"
      ]
    },
    {
      "cell_type": "code",
      "execution_count": 31,
      "metadata": {},
      "outputs": [
        {
          "name": "stdout",
          "output_type": "stream",
          "text": [
            "Human: Provide group name for account name root\n",
            "SQLQuery:\n",
            "AI: SELECT g.group_name FROM [group] g INNER JOIN [membership] m ON g.id = m.m_group_id INNER JOIN [account] a ON m.account_id = a.id WHERE a.acct_name = 'root';\n"
          ]
        }
      ],
      "source": [
        "from langchain_core.prompts import ChatPromptTemplate, MessagesPlaceholder,FewShotChatMessagePromptTemplate,PromptTemplate\n",
        "\n",
        "example_prompt = ChatPromptTemplate.from_messages(\n",
        "    [\n",
        "        (\"human\", \"{input}\\nSQLQuery:\"),\n",
        "        (\"ai\", \"{query}\"),\n",
        "    ]\n",
        ")\n",
        "few_shot_prompt = FewShotChatMessagePromptTemplate(\n",
        "    example_prompt=example_prompt,\n",
        "    example_selector=example_selector,    \n",
        "    input_variables=[\"input\",\"top_k\"],\n",
        ")\n",
        "print(few_shot_prompt.format(input=\"tell me group name of account root?\"))"
      ]
    },
    {
      "cell_type": "code",
      "execution_count": 32,
      "metadata": {
        "colab": {
          "base_uri": "https://localhost:8080/"
        },
        "id": "4rID0Q0d4jHj",
        "outputId": "bcf8be92-d57d-40d0-a0b2-4d06a99c701b"
      },
      "outputs": [
        {
          "name": "stdout",
          "output_type": "stream",
          "text": [
            "Human: Provide group name for account name root\n",
            "SQLQuery:\n",
            "AI: SELECT g.group_name FROM [group] g INNER JOIN [membership] m ON g.id = m.m_group_id INNER JOIN [account] a ON m.account_id = a.id WHERE a.acct_name = 'root';\n"
          ]
        }
      ],
      "source": [
        "few_shot_prompt = FewShotChatMessagePromptTemplate(\n",
        "    example_prompt=example_prompt,\n",
        "    example_selector=example_selector,\n",
        "    input_variables=[\"input\",\"top_k\"],\n",
        ")\n",
        "print(few_shot_prompt.format(input=\"tell me group name of account root?\"))"
      ]
    },
    {
      "cell_type": "markdown",
      "metadata": {
        "id": "72ZSFWBeW_tE"
      },
      "source": [
        "Customizing prompts"
      ]
    },
    {
      "cell_type": "code",
      "execution_count": 33,
      "metadata": {
        "colab": {
          "base_uri": "https://localhost:8080/"
        },
        "id": "PCnlv2pd469x",
        "outputId": "06cc26ba-82fc-42a4-f195-e71915a6cb58"
      },
      "outputs": [
        {
          "name": "stdout",
          "output_type": "stream",
          "text": [
            "System: You are a SQL server expert, who can execute and query SQL database to find answers based on user's question about tables available in the database and take only 3 tables for answering i.e account, membership and group table and try to join them together in order to get the result.Sometimes answers you can get from one table in that case you don't need to combine all 3 tables . First understand if requirements can be satisfying by using one table only if needed join all 3 tables [dbo].[account], [dbo].[membership] and [dbo].[group] if not getting answer from one table but do not go beyond 3 tables in the database.You should consider m_group_id column from [dbo].[membership] when joining with the [dbo].[group] table on id column and consider account_id when joining with [dbo].[account]Given an input question, create a syntactically correct  query to run, then look at the results of the query and return the answer.Unless the user specifies a specific number of examples they wish to obtain, always limit your query to at most 10 results.You can order the results by a relevant column to return the most interesting examples in the database.Never query for all the columns from a specific table, only ask for the relevant columns given the question.You have access to tools for interacting with the database.Only use the given tools. Only use the information returned by the tools to construct your final answer.You MUST double check your query before executing it. If you get an error while executing a query, rewrite the query and try again.DO NOT make any DML statements (INSERT, UPDATE, DELETE, DROP etc.) to the database.If the question does not seem related to the database, just return 'I don't know' as the answer.Here are some examples of user inputs and their corresponding SQL queriesAfter joining all the tables if not getting any relevant answer pls return 'No data available' as the answer. Don't show any list or list of user names in this caseYou don't want to see the entire data present in the table in the action input but wants to see final result.Also limit the number of rows to top 10 only when generating SQL queries .consider display name to user name in the account table.\n",
            "System: Example 1: If a user asks 'What are the account details for user XYZ?', you should generate a SQL query like 'SELECT Top 10 acct_name FROM account WHERE display_name = 'XYZ'\n",
            "System: Example 2: If a user asks 'What groups is user XYZ a member of?', you should generate a SQL query like 'SELECT Top 10 [group].name FROM [group] JOIN membership ON [group].id = membership.group_id JOIN account ON membership.account_id = account.id WHERE account.display_name  = 'XYZ' LIMIT 10'.\n",
            "\n",
            "Here is the relevant table info: account, group,membership\n",
            "\n",
            "Below are a number of examples of questions and their corresponding SQL queries.\n",
            "Human: Provide group name for account name root\n",
            "SQLQuery:\n",
            "AI: SELECT g.group_name FROM [group] g INNER JOIN [membership] m ON g.id = m.m_group_id INNER JOIN [account] a ON m.account_id = a.id WHERE a.acct_name = 'root';\n",
            "Human: What is the user name for account name root ?\n"
          ]
        }
      ],
      "source": [
        "final_prompt = ChatPromptTemplate.from_messages(\n",
        "    [\n",
        "        (\"system\", \"You are a SQL server expert, who can execute and query SQL database to find answers based on user's question about tables available in the database and take only 3 tables for answering i.e account, membership and group table and try to join them together in order to get the result.\"\\\n",
        "         \"Sometimes answers you can get from one table in that case you don't need to combine all 3 tables . First understand if requirements can be satisfying by using one table only if needed join all 3 tables [dbo].[account], [dbo].[membership] and [dbo].[group] if not getting answer from one table but do not go beyond 3 tables in the database.\" \\\n",
        "          \"You should consider m_group_id column from [dbo].[membership] when joining with the [dbo].[group] table on id column and consider account_id when joining with [dbo].[account]\"\\\n",
        "          \"Given an input question, create a syntactically correct  query to run, then look at the results of the query and return the answer.\"\\\n",
        "          \"Unless the user specifies a specific number of examples they wish to obtain, always limit your query to at most 10 results.\"\\\n",
        "          \"You can order the results by a relevant column to return the most interesting examples in the database.\"\\\n",
        "          \"Never query for all the columns from a specific table, only ask for the relevant columns given the question.\"\\\n",
        "          \"You have access to tools for interacting with the database.\"\\\n",
        "          \"Only use the given tools. Only use the information returned by the tools to construct your final answer.\"\\\n",
        "          \"You MUST double check your query before executing it. If you get an error while executing a query, rewrite the query and try again.\"\\\n",
        "          \"DO NOT make any DML statements (INSERT, UPDATE, DELETE, DROP etc.) to the database.\"\\\n",
        "          \"If the question does not seem related to the database, just return 'I don't know' as the answer.\"\\\n",
        "          \"Here are some examples of user inputs and their corresponding SQL queries\" \\\n",
        "          \"After joining all the tables if not getting any relevant answer pls return 'No data available' as the answer. Don't show any list or list of user names in this case\"\\\n",
        "          \"You don't want to see the entire data present in the table in the action input but wants to see final result.Also limit the number of rows to top 10 only when generating SQL queries .consider display name to user name in the account table.\"),\n",
        "        (\"system\", \"Example 1: If a user asks 'What are the account details for user XYZ?', you should generate a SQL query like 'SELECT Top 10 acct_name FROM account WHERE display_name = 'XYZ'\"),\n",
        "        (\"system\", \"Example 2: If a user asks 'What groups is user XYZ a member of?', you should generate a SQL query like 'SELECT Top 10 [group].name FROM [group] JOIN membership ON [group].id = membership.group_id JOIN account ON membership.account_id = account.id WHERE account.display_name  = 'XYZ' LIMIT 10'.\\n\\nHere is the relevant table info: {table_info}\\n\\nBelow are a number of examples of questions and their corresponding SQL queries.\"),\n",
        "        few_shot_prompt,\n",
        "        (\"human\", \"{input}\"),\n",
        "    ]\n",
        ")\n",
        "print(final_prompt.format(input=\"What is the user name for account name root ?\",table_info=\"account, group,membership\"))"
      ]
    },
    {
      "cell_type": "code",
      "execution_count": 34,
      "metadata": {},
      "outputs": [
        {
          "name": "stdout",
          "output_type": "stream",
          "text": [
            "SQL Query: SELECT TOP 10 g.group_name \n",
            "FROM dbo.[group] g \n",
            "JOIN dbo.[membership] m ON g.id = m.m_group_id \n",
            "JOIN dbo.[account] a ON m.account_id = a.id \n",
            "WHERE a.acct_name = 'root' \n",
            "ORDER BY g.group_name;\n"
          ]
        },
        {
          "data": {
            "text/plain": [
              "\"The group names for the account name root are 'abrt', 'adm', 'adm', 'avdefs', 'bin', 'bin', 'bj692vf', 'cgred', 'chrony', and 'CN=Account Operators,CN=Builtin,DC=ADVCRD,DC=sbp,DC=local'.\""
            ]
          },
          "execution_count": 34,
          "metadata": {},
          "output_type": "execute_result"
        }
      ],
      "source": [
        "generate_query = create_sql_query_chain(llm, db, final_prompt)\n",
        "\n",
        "def debug_print_query(context):\n",
        "    print(\"SQL Query:\", context[\"query\"])\n",
        "    return context\n",
        "\n",
        "chain = (\n",
        "    RunnablePassthrough.assign(query=generate_query)\n",
        "    | debug_print_query\n",
        ")\n",
        "\n",
        "chain = chain.assign(result=itemgetter(\"query\") | execute_query) | rephrase_answer\n",
        "\n",
        "chain.invoke({\"question\": \"Provide group name for account name root\"})"
      ]
    },
    {
      "cell_type": "code",
      "execution_count": 26,
      "metadata": {
        "colab": {
          "base_uri": "https://localhost:8080/",
          "height": 35
        },
        "id": "eN7UFbYs5ULO",
        "outputId": "33079972-0f2e-4c75-9294-0e87093d7348"
      },
      "outputs": [],
      "source": [
        "#generate_query = create_sql_query_chain(llm, db,final_prompt)\n",
        "#def debug_print_query(context):\n",
        "    #print(\"SQL Query:\", context[\"query\"])\n",
        "    #return context\n",
        "\n",
        "\n",
        "#chain = (\n",
        "#RunnablePassthrough.assign(query=generate_query).assign(\n",
        "    #result=itemgetter(\"query\") | execute_query\n",
        "#)\n",
        "#| rephrase_answer\n",
        "#)\n",
        "#chain.invoke({\"question\": \"provide name of user where account name is bin\"})"
      ]
    },
    {
      "cell_type": "markdown",
      "metadata": {
        "id": "VzLDjfdJWxQ0"
      },
      "source": [
        "###Dynamic relevant table selection"
      ]
    },
    {
      "cell_type": "code",
      "execution_count": 48,
      "metadata": {
        "colab": {
          "base_uri": "https://localhost:8080/"
        },
        "id": "fuTfq0e-6Mgi",
        "outputId": "39705a0e-eccd-48f3-bdd8-80ee970c1369"
      },
      "outputs": [
        {
          "ename": "FileNotFoundError",
          "evalue": "[Errno 2] No such file or directory: 'database_table_descriptions.csv'",
          "output_type": "error",
          "traceback": [
            "\u001b[1;31m---------------------------------------------------------------------------\u001b[0m",
            "\u001b[1;31mFileNotFoundError\u001b[0m                         Traceback (most recent call last)",
            "Cell \u001b[1;32mIn[48], line 26\u001b[0m\n\u001b[0;32m     23\u001b[0m     name: \u001b[38;5;28mstr\u001b[39m \u001b[38;5;241m=\u001b[39m Field(description\u001b[38;5;241m=\u001b[39m\u001b[38;5;124m\"\u001b[39m\u001b[38;5;124mName of table in SQL database.\u001b[39m\u001b[38;5;124m\"\u001b[39m)\n\u001b[0;32m     25\u001b[0m \u001b[38;5;66;03m# table_names = \"\\n\".join(db.get_usable_table_names())\u001b[39;00m\n\u001b[1;32m---> 26\u001b[0m table_details \u001b[38;5;241m=\u001b[39m \u001b[43mget_table_details\u001b[49m\u001b[43m(\u001b[49m\u001b[43m)\u001b[49m\n\u001b[0;32m     27\u001b[0m \u001b[38;5;28mprint\u001b[39m(table_details)\n",
            "Cell \u001b[1;32mIn[48], line 9\u001b[0m, in \u001b[0;36mget_table_details\u001b[1;34m()\u001b[0m\n\u001b[0;32m      7\u001b[0m \u001b[38;5;28;01mdef\u001b[39;00m \u001b[38;5;21mget_table_details\u001b[39m():\n\u001b[0;32m      8\u001b[0m     \u001b[38;5;66;03m# Read the CSV file into a DataFrame\u001b[39;00m\n\u001b[1;32m----> 9\u001b[0m     table_description \u001b[38;5;241m=\u001b[39m \u001b[43mpd\u001b[49m\u001b[38;5;241;43m.\u001b[39;49m\u001b[43mread_csv\u001b[49m\u001b[43m(\u001b[49m\u001b[38;5;124;43m\"\u001b[39;49m\u001b[38;5;124;43mdatabase_table_descriptions.csv\u001b[39;49m\u001b[38;5;124;43m\"\u001b[39;49m\u001b[43m)\u001b[49m\n\u001b[0;32m     10\u001b[0m     table_docs \u001b[38;5;241m=\u001b[39m []\n\u001b[0;32m     12\u001b[0m     \u001b[38;5;66;03m# Iterate over the DataFrame rows to create Document objects\u001b[39;00m\n",
            "File \u001b[1;32mc:\\Users\\JV976GT\\OneDrive - EY\\Desktop\\Paris\\GenAi\\Repo\\cyberops-ai-api\\src\\myenv\\Lib\\site-packages\\pandas\\io\\parsers\\readers.py:1026\u001b[0m, in \u001b[0;36mread_csv\u001b[1;34m(filepath_or_buffer, sep, delimiter, header, names, index_col, usecols, dtype, engine, converters, true_values, false_values, skipinitialspace, skiprows, skipfooter, nrows, na_values, keep_default_na, na_filter, verbose, skip_blank_lines, parse_dates, infer_datetime_format, keep_date_col, date_parser, date_format, dayfirst, cache_dates, iterator, chunksize, compression, thousands, decimal, lineterminator, quotechar, quoting, doublequote, escapechar, comment, encoding, encoding_errors, dialect, on_bad_lines, delim_whitespace, low_memory, memory_map, float_precision, storage_options, dtype_backend)\u001b[0m\n\u001b[0;32m   1013\u001b[0m kwds_defaults \u001b[38;5;241m=\u001b[39m _refine_defaults_read(\n\u001b[0;32m   1014\u001b[0m     dialect,\n\u001b[0;32m   1015\u001b[0m     delimiter,\n\u001b[1;32m   (...)\u001b[0m\n\u001b[0;32m   1022\u001b[0m     dtype_backend\u001b[38;5;241m=\u001b[39mdtype_backend,\n\u001b[0;32m   1023\u001b[0m )\n\u001b[0;32m   1024\u001b[0m kwds\u001b[38;5;241m.\u001b[39mupdate(kwds_defaults)\n\u001b[1;32m-> 1026\u001b[0m \u001b[38;5;28;01mreturn\u001b[39;00m \u001b[43m_read\u001b[49m\u001b[43m(\u001b[49m\u001b[43mfilepath_or_buffer\u001b[49m\u001b[43m,\u001b[49m\u001b[43m \u001b[49m\u001b[43mkwds\u001b[49m\u001b[43m)\u001b[49m\n",
            "File \u001b[1;32mc:\\Users\\JV976GT\\OneDrive - EY\\Desktop\\Paris\\GenAi\\Repo\\cyberops-ai-api\\src\\myenv\\Lib\\site-packages\\pandas\\io\\parsers\\readers.py:620\u001b[0m, in \u001b[0;36m_read\u001b[1;34m(filepath_or_buffer, kwds)\u001b[0m\n\u001b[0;32m    617\u001b[0m _validate_names(kwds\u001b[38;5;241m.\u001b[39mget(\u001b[38;5;124m\"\u001b[39m\u001b[38;5;124mnames\u001b[39m\u001b[38;5;124m\"\u001b[39m, \u001b[38;5;28;01mNone\u001b[39;00m))\n\u001b[0;32m    619\u001b[0m \u001b[38;5;66;03m# Create the parser.\u001b[39;00m\n\u001b[1;32m--> 620\u001b[0m parser \u001b[38;5;241m=\u001b[39m \u001b[43mTextFileReader\u001b[49m\u001b[43m(\u001b[49m\u001b[43mfilepath_or_buffer\u001b[49m\u001b[43m,\u001b[49m\u001b[43m \u001b[49m\u001b[38;5;241;43m*\u001b[39;49m\u001b[38;5;241;43m*\u001b[39;49m\u001b[43mkwds\u001b[49m\u001b[43m)\u001b[49m\n\u001b[0;32m    622\u001b[0m \u001b[38;5;28;01mif\u001b[39;00m chunksize \u001b[38;5;129;01mor\u001b[39;00m iterator:\n\u001b[0;32m    623\u001b[0m     \u001b[38;5;28;01mreturn\u001b[39;00m parser\n",
            "File \u001b[1;32mc:\\Users\\JV976GT\\OneDrive - EY\\Desktop\\Paris\\GenAi\\Repo\\cyberops-ai-api\\src\\myenv\\Lib\\site-packages\\pandas\\io\\parsers\\readers.py:1620\u001b[0m, in \u001b[0;36mTextFileReader.__init__\u001b[1;34m(self, f, engine, **kwds)\u001b[0m\n\u001b[0;32m   1617\u001b[0m     \u001b[38;5;28mself\u001b[39m\u001b[38;5;241m.\u001b[39moptions[\u001b[38;5;124m\"\u001b[39m\u001b[38;5;124mhas_index_names\u001b[39m\u001b[38;5;124m\"\u001b[39m] \u001b[38;5;241m=\u001b[39m kwds[\u001b[38;5;124m\"\u001b[39m\u001b[38;5;124mhas_index_names\u001b[39m\u001b[38;5;124m\"\u001b[39m]\n\u001b[0;32m   1619\u001b[0m \u001b[38;5;28mself\u001b[39m\u001b[38;5;241m.\u001b[39mhandles: IOHandles \u001b[38;5;241m|\u001b[39m \u001b[38;5;28;01mNone\u001b[39;00m \u001b[38;5;241m=\u001b[39m \u001b[38;5;28;01mNone\u001b[39;00m\n\u001b[1;32m-> 1620\u001b[0m \u001b[38;5;28mself\u001b[39m\u001b[38;5;241m.\u001b[39m_engine \u001b[38;5;241m=\u001b[39m \u001b[38;5;28;43mself\u001b[39;49m\u001b[38;5;241;43m.\u001b[39;49m\u001b[43m_make_engine\u001b[49m\u001b[43m(\u001b[49m\u001b[43mf\u001b[49m\u001b[43m,\u001b[49m\u001b[43m \u001b[49m\u001b[38;5;28;43mself\u001b[39;49m\u001b[38;5;241;43m.\u001b[39;49m\u001b[43mengine\u001b[49m\u001b[43m)\u001b[49m\n",
            "File \u001b[1;32mc:\\Users\\JV976GT\\OneDrive - EY\\Desktop\\Paris\\GenAi\\Repo\\cyberops-ai-api\\src\\myenv\\Lib\\site-packages\\pandas\\io\\parsers\\readers.py:1880\u001b[0m, in \u001b[0;36mTextFileReader._make_engine\u001b[1;34m(self, f, engine)\u001b[0m\n\u001b[0;32m   1878\u001b[0m     \u001b[38;5;28;01mif\u001b[39;00m \u001b[38;5;124m\"\u001b[39m\u001b[38;5;124mb\u001b[39m\u001b[38;5;124m\"\u001b[39m \u001b[38;5;129;01mnot\u001b[39;00m \u001b[38;5;129;01min\u001b[39;00m mode:\n\u001b[0;32m   1879\u001b[0m         mode \u001b[38;5;241m+\u001b[39m\u001b[38;5;241m=\u001b[39m \u001b[38;5;124m\"\u001b[39m\u001b[38;5;124mb\u001b[39m\u001b[38;5;124m\"\u001b[39m\n\u001b[1;32m-> 1880\u001b[0m \u001b[38;5;28mself\u001b[39m\u001b[38;5;241m.\u001b[39mhandles \u001b[38;5;241m=\u001b[39m \u001b[43mget_handle\u001b[49m\u001b[43m(\u001b[49m\n\u001b[0;32m   1881\u001b[0m \u001b[43m    \u001b[49m\u001b[43mf\u001b[49m\u001b[43m,\u001b[49m\n\u001b[0;32m   1882\u001b[0m \u001b[43m    \u001b[49m\u001b[43mmode\u001b[49m\u001b[43m,\u001b[49m\n\u001b[0;32m   1883\u001b[0m \u001b[43m    \u001b[49m\u001b[43mencoding\u001b[49m\u001b[38;5;241;43m=\u001b[39;49m\u001b[38;5;28;43mself\u001b[39;49m\u001b[38;5;241;43m.\u001b[39;49m\u001b[43moptions\u001b[49m\u001b[38;5;241;43m.\u001b[39;49m\u001b[43mget\u001b[49m\u001b[43m(\u001b[49m\u001b[38;5;124;43m\"\u001b[39;49m\u001b[38;5;124;43mencoding\u001b[39;49m\u001b[38;5;124;43m\"\u001b[39;49m\u001b[43m,\u001b[49m\u001b[43m \u001b[49m\u001b[38;5;28;43;01mNone\u001b[39;49;00m\u001b[43m)\u001b[49m\u001b[43m,\u001b[49m\n\u001b[0;32m   1884\u001b[0m \u001b[43m    \u001b[49m\u001b[43mcompression\u001b[49m\u001b[38;5;241;43m=\u001b[39;49m\u001b[38;5;28;43mself\u001b[39;49m\u001b[38;5;241;43m.\u001b[39;49m\u001b[43moptions\u001b[49m\u001b[38;5;241;43m.\u001b[39;49m\u001b[43mget\u001b[49m\u001b[43m(\u001b[49m\u001b[38;5;124;43m\"\u001b[39;49m\u001b[38;5;124;43mcompression\u001b[39;49m\u001b[38;5;124;43m\"\u001b[39;49m\u001b[43m,\u001b[49m\u001b[43m \u001b[49m\u001b[38;5;28;43;01mNone\u001b[39;49;00m\u001b[43m)\u001b[49m\u001b[43m,\u001b[49m\n\u001b[0;32m   1885\u001b[0m \u001b[43m    \u001b[49m\u001b[43mmemory_map\u001b[49m\u001b[38;5;241;43m=\u001b[39;49m\u001b[38;5;28;43mself\u001b[39;49m\u001b[38;5;241;43m.\u001b[39;49m\u001b[43moptions\u001b[49m\u001b[38;5;241;43m.\u001b[39;49m\u001b[43mget\u001b[49m\u001b[43m(\u001b[49m\u001b[38;5;124;43m\"\u001b[39;49m\u001b[38;5;124;43mmemory_map\u001b[39;49m\u001b[38;5;124;43m\"\u001b[39;49m\u001b[43m,\u001b[49m\u001b[43m \u001b[49m\u001b[38;5;28;43;01mFalse\u001b[39;49;00m\u001b[43m)\u001b[49m\u001b[43m,\u001b[49m\n\u001b[0;32m   1886\u001b[0m \u001b[43m    \u001b[49m\u001b[43mis_text\u001b[49m\u001b[38;5;241;43m=\u001b[39;49m\u001b[43mis_text\u001b[49m\u001b[43m,\u001b[49m\n\u001b[0;32m   1887\u001b[0m \u001b[43m    \u001b[49m\u001b[43merrors\u001b[49m\u001b[38;5;241;43m=\u001b[39;49m\u001b[38;5;28;43mself\u001b[39;49m\u001b[38;5;241;43m.\u001b[39;49m\u001b[43moptions\u001b[49m\u001b[38;5;241;43m.\u001b[39;49m\u001b[43mget\u001b[49m\u001b[43m(\u001b[49m\u001b[38;5;124;43m\"\u001b[39;49m\u001b[38;5;124;43mencoding_errors\u001b[39;49m\u001b[38;5;124;43m\"\u001b[39;49m\u001b[43m,\u001b[49m\u001b[43m \u001b[49m\u001b[38;5;124;43m\"\u001b[39;49m\u001b[38;5;124;43mstrict\u001b[39;49m\u001b[38;5;124;43m\"\u001b[39;49m\u001b[43m)\u001b[49m\u001b[43m,\u001b[49m\n\u001b[0;32m   1888\u001b[0m \u001b[43m    \u001b[49m\u001b[43mstorage_options\u001b[49m\u001b[38;5;241;43m=\u001b[39;49m\u001b[38;5;28;43mself\u001b[39;49m\u001b[38;5;241;43m.\u001b[39;49m\u001b[43moptions\u001b[49m\u001b[38;5;241;43m.\u001b[39;49m\u001b[43mget\u001b[49m\u001b[43m(\u001b[49m\u001b[38;5;124;43m\"\u001b[39;49m\u001b[38;5;124;43mstorage_options\u001b[39;49m\u001b[38;5;124;43m\"\u001b[39;49m\u001b[43m,\u001b[49m\u001b[43m \u001b[49m\u001b[38;5;28;43;01mNone\u001b[39;49;00m\u001b[43m)\u001b[49m\u001b[43m,\u001b[49m\n\u001b[0;32m   1889\u001b[0m \u001b[43m\u001b[49m\u001b[43m)\u001b[49m\n\u001b[0;32m   1890\u001b[0m \u001b[38;5;28;01massert\u001b[39;00m \u001b[38;5;28mself\u001b[39m\u001b[38;5;241m.\u001b[39mhandles \u001b[38;5;129;01mis\u001b[39;00m \u001b[38;5;129;01mnot\u001b[39;00m \u001b[38;5;28;01mNone\u001b[39;00m\n\u001b[0;32m   1891\u001b[0m f \u001b[38;5;241m=\u001b[39m \u001b[38;5;28mself\u001b[39m\u001b[38;5;241m.\u001b[39mhandles\u001b[38;5;241m.\u001b[39mhandle\n",
            "File \u001b[1;32mc:\\Users\\JV976GT\\OneDrive - EY\\Desktop\\Paris\\GenAi\\Repo\\cyberops-ai-api\\src\\myenv\\Lib\\site-packages\\pandas\\io\\common.py:873\u001b[0m, in \u001b[0;36mget_handle\u001b[1;34m(path_or_buf, mode, encoding, compression, memory_map, is_text, errors, storage_options)\u001b[0m\n\u001b[0;32m    868\u001b[0m \u001b[38;5;28;01melif\u001b[39;00m \u001b[38;5;28misinstance\u001b[39m(handle, \u001b[38;5;28mstr\u001b[39m):\n\u001b[0;32m    869\u001b[0m     \u001b[38;5;66;03m# Check whether the filename is to be opened in binary mode.\u001b[39;00m\n\u001b[0;32m    870\u001b[0m     \u001b[38;5;66;03m# Binary mode does not support 'encoding' and 'newline'.\u001b[39;00m\n\u001b[0;32m    871\u001b[0m     \u001b[38;5;28;01mif\u001b[39;00m ioargs\u001b[38;5;241m.\u001b[39mencoding \u001b[38;5;129;01mand\u001b[39;00m \u001b[38;5;124m\"\u001b[39m\u001b[38;5;124mb\u001b[39m\u001b[38;5;124m\"\u001b[39m \u001b[38;5;129;01mnot\u001b[39;00m \u001b[38;5;129;01min\u001b[39;00m ioargs\u001b[38;5;241m.\u001b[39mmode:\n\u001b[0;32m    872\u001b[0m         \u001b[38;5;66;03m# Encoding\u001b[39;00m\n\u001b[1;32m--> 873\u001b[0m         handle \u001b[38;5;241m=\u001b[39m \u001b[38;5;28;43mopen\u001b[39;49m\u001b[43m(\u001b[49m\n\u001b[0;32m    874\u001b[0m \u001b[43m            \u001b[49m\u001b[43mhandle\u001b[49m\u001b[43m,\u001b[49m\n\u001b[0;32m    875\u001b[0m \u001b[43m            \u001b[49m\u001b[43mioargs\u001b[49m\u001b[38;5;241;43m.\u001b[39;49m\u001b[43mmode\u001b[49m\u001b[43m,\u001b[49m\n\u001b[0;32m    876\u001b[0m \u001b[43m            \u001b[49m\u001b[43mencoding\u001b[49m\u001b[38;5;241;43m=\u001b[39;49m\u001b[43mioargs\u001b[49m\u001b[38;5;241;43m.\u001b[39;49m\u001b[43mencoding\u001b[49m\u001b[43m,\u001b[49m\n\u001b[0;32m    877\u001b[0m \u001b[43m            \u001b[49m\u001b[43merrors\u001b[49m\u001b[38;5;241;43m=\u001b[39;49m\u001b[43merrors\u001b[49m\u001b[43m,\u001b[49m\n\u001b[0;32m    878\u001b[0m \u001b[43m            \u001b[49m\u001b[43mnewline\u001b[49m\u001b[38;5;241;43m=\u001b[39;49m\u001b[38;5;124;43m\"\u001b[39;49m\u001b[38;5;124;43m\"\u001b[39;49m\u001b[43m,\u001b[49m\n\u001b[0;32m    879\u001b[0m \u001b[43m        \u001b[49m\u001b[43m)\u001b[49m\n\u001b[0;32m    880\u001b[0m     \u001b[38;5;28;01melse\u001b[39;00m:\n\u001b[0;32m    881\u001b[0m         \u001b[38;5;66;03m# Binary mode\u001b[39;00m\n\u001b[0;32m    882\u001b[0m         handle \u001b[38;5;241m=\u001b[39m \u001b[38;5;28mopen\u001b[39m(handle, ioargs\u001b[38;5;241m.\u001b[39mmode)\n",
            "\u001b[1;31mFileNotFoundError\u001b[0m: [Errno 2] No such file or directory: 'database_table_descriptions.csv'"
          ]
        }
      ],
      "source": [
        "from operator import itemgetter\n",
        "from langchain.chains.openai_tools import create_extraction_chain_pydantic\n",
        "from langchain_core.pydantic_v1 import BaseModel, Field\n",
        "from typing import List\n",
        "import pandas as pd\n",
        "\n",
        "def get_table_details():\n",
        "    # Read the CSV file into a DataFrame\n",
        "    table_description = pd.read_csv(\"database_table_descriptions.csv\")\n",
        "    table_docs = []\n",
        "\n",
        "    # Iterate over the DataFrame rows to create Document objects\n",
        "    table_details = \"\"\n",
        "    for index, row in table_description.iterrows():\n",
        "        table_details = table_details + \"Table Name:\" + row['Table'] + \"\\n\" + \"Table Description:\" + row['Description'] + \"\\n\\n\"\n",
        "\n",
        "    return table_details\n",
        "\n",
        "\n",
        "class Table(BaseModel):\n",
        "    \"\"\"Table in SQL database.\"\"\"\n",
        "\n",
        "    name: str = Field(description=\"Name of table in SQL database.\")\n",
        "\n",
        "# table_names = \"\\n\".join(db.get_usable_table_names())\n",
        "table_details = get_table_details()\n",
        "print(table_details)"
      ]
    },
    {
      "cell_type": "code",
      "execution_count": 28,
      "metadata": {
        "colab": {
          "base_uri": "https://localhost:8080/"
        },
        "id": "GA1TjUgm7EST",
        "outputId": "728a398c-2256-478f-dd17-ebf4b40ebfa4"
      },
      "outputs": [
        {
          "data": {
            "text/plain": [
              "[]"
            ]
          },
          "execution_count": 28,
          "metadata": {},
          "output_type": "execute_result"
        }
      ],
      "source": [
        "table_details_prompt = f\"\"\"Return the names of ALL the SQL tables that MIGHT be relevant to the user question. \\\n",
        "The tables are:\n",
        "\n",
        "{table_details}\n",
        "\n",
        "Remember to include ALL POTENTIALLY RELEVANT tables, even if you're not sure that they're needed.\"\"\"\n",
        "\n",
        "table_chain = create_extraction_chain_pydantic(Table, llm, system_message=table_details_prompt)\n",
        "tables = table_chain.invoke({\"input\": \"Provide platform name for account name root\"})\n",
        "tables"
      ]
    },
    {
      "cell_type": "code",
      "execution_count": 29,
      "metadata": {
        "colab": {
          "base_uri": "https://localhost:8080/"
        },
        "id": "rTf1SphE69Xf",
        "outputId": "f8aac43c-b136-41a4-84d6-7ee08f9de0e3"
      },
      "outputs": [
        {
          "data": {
            "text/plain": [
              "['account']"
            ]
          },
          "execution_count": 29,
          "metadata": {},
          "output_type": "execute_result"
        }
      ],
      "source": [
        "def get_tables(tables: List[Table]) -> List[str]:\n",
        "    tables  = [table.name for table in tables]\n",
        "    return tables\n",
        "\n",
        "select_table = {\"input\": itemgetter(\"question\")} | create_extraction_chain_pydantic(Table, llm, system_message=table_details_prompt) | get_tables\n",
        "select_table.invoke({\"question\": \"Tell me the count of account name root\"})"
      ]
    },
    {
      "cell_type": "code",
      "execution_count": 30,
      "metadata": {},
      "outputs": [
        {
          "name": "stdout",
          "output_type": "stream",
          "text": [
            "SQL Query: SELECT Top 10 display_name FROM [dbo].[account] WHERE acct_name = 'root'\n"
          ]
        },
        {
          "data": {
            "text/plain": [
              "'The user names for the account name root are Vincent, Steve Gonzales, Jennifer Lee, Jesse Boyd, and Kimberly Glass.'"
            ]
          },
          "execution_count": 30,
          "metadata": {},
          "output_type": "execute_result"
        }
      ],
      "source": [
        "def debug_print_query(context):\n",
        "    print(\"SQL Query:\", context[\"query\"])\n",
        "    return context\n",
        "\n",
        "chain = (\n",
        "    RunnablePassthrough.assign(table_names_to_use=select_table)\n",
        "    | RunnablePassthrough.assign(query=generate_query)\n",
        "    | debug_print_query\n",
        ")\n",
        "\n",
        "chain = chain.assign(result=itemgetter(\"query\") | execute_query) | rephrase_answer\n",
        "\n",
        "chain.invoke({\"question\": \"provide user name for account name root\"})"
      ]
    },
    {
      "cell_type": "code",
      "execution_count": 31,
      "metadata": {
        "colab": {
          "base_uri": "https://localhost:8080/",
          "height": 35
        },
        "id": "6DyhowwN71ts",
        "outputId": "1c15d2ea-ee61-4647-8978-a598c9736784"
      },
      "outputs": [],
      "source": [
        "#chain = (\n",
        "#RunnablePassthrough.assign(table_names_to_use=select_table) |\n",
        "#RunnablePassthrough.assign(query=generate_query).assign(\n",
        "    #result=itemgetter(\"query\") | execute_query\n",
        "#)\n",
        "#| rephrase_answer\n",
        "#)\n",
        "#chain.invoke({\"question\": \"provide user name for account root\"})"
      ]
    },
    {
      "cell_type": "code",
      "execution_count": 32,
      "metadata": {
        "colab": {
          "base_uri": "https://localhost:8080/",
          "height": 70
        },
        "id": "2GGHwgnI8T7i",
        "outputId": "2851a64e-7b99-4d17-fc02-ffd40027bafe"
      },
      "outputs": [
        {
          "name": "stdout",
          "output_type": "stream",
          "text": [
            "SQL Query: SELECT TOP 10 entitlement_name FROM [dbo].[membership] WHERE platform_name = 'Linux Server';\n"
          ]
        },
        {
          "data": {
            "text/plain": [
              "\"The entitlement name for Linux server platform from the membership table is 'XYZ'.\""
            ]
          },
          "execution_count": 32,
          "metadata": {},
          "output_type": "execute_result"
        }
      ],
      "source": [
        "chain.invoke({\"question\": \"Provide entitlement name for Linux server platform from membership table\"})"
      ]
    },
    {
      "cell_type": "markdown",
      "metadata": {
        "id": "dvy70bh0W28Q"
      },
      "source": [
        "###Adding memory to the chatbot so that it answers follow-up questions related to the database.\n",
        "\n",
        "\n",
        "\n",
        "\n"
      ]
    },
    {
      "cell_type": "code",
      "execution_count": 33,
      "metadata": {
        "colab": {
          "base_uri": "https://localhost:8080/"
        },
        "id": "StZ_P_5_87L6",
        "outputId": "e4dfe90f-2907-4c3c-d01e-d44ef182cd42"
      },
      "outputs": [
        {
          "name": "stdout",
          "output_type": "stream",
          "text": [
            "System: You are a SQL expert. Given an input question, create a syntactically correct SQL query to run. Unless otherwise specificed.\n",
            "\n",
            "Here is the relevant table info: account\n",
            "\n",
            "Below are a number of examples of questions and their corresponding SQL queries. Those examples are just for referecne and hsould be considered while answering follow up questions\n",
            "Human: List all accounts.\n",
            "SQLQuery:\n",
            "AI: SELECT * FROM [account];\n",
            "Human: How many accounts are there?\n"
          ]
        }
      ],
      "source": [
        "final_prompt = ChatPromptTemplate.from_messages(\n",
        "    [\n",
        "        (\"system\", \"You are a SQL expert. Given an input question, create a syntactically correct SQL query to run. Unless otherwise specificed.\\n\\nHere is the relevant table info: {table_info}\\n\\nBelow are a number of examples of questions and their corresponding SQL queries. Those examples are just for referecne and hsould be considered while answering follow up questions\"),\n",
        "        few_shot_prompt,\n",
        "        MessagesPlaceholder(variable_name=\"messages\"),\n",
        "        (\"human\", \"{input}\"),\n",
        "    ]\n",
        ")\n",
        "print(final_prompt.format(input=\"How many accounts are there?\",table_info=\"account\",messages=[]))"
      ]
    },
    {
      "cell_type": "code",
      "execution_count": 34,
      "metadata": {},
      "outputs": [],
      "source": [
        "from langchain.memory import ChatMessageHistory\n",
        "history = ChatMessageHistory()\n",
        "\n",
        "generate_query = create_sql_query_chain(llm, db, final_prompt)\n",
        "\n",
        "def debug_print_query(context):\n",
        "    print(\"SQL Query:\", context[\"query\"])\n",
        "    return context\n",
        "\n",
        "chain = (\n",
        "    RunnablePassthrough.assign(table_names_to_use=select_table)\n",
        "    | RunnablePassthrough.assign(query=generate_query)\n",
        "    | debug_print_query\n",
        ")\n",
        "\n",
        "chain = chain.assign(result=itemgetter(\"query\") | execute_query) | rephrase_answer\n"
      ]
    },
    {
      "cell_type": "code",
      "execution_count": 35,
      "metadata": {
        "id": "OmXe-uWJ8lvt"
      },
      "outputs": [],
      "source": [
        "#from langchain.memory import ChatMessageHistory\n",
        "#history = ChatMessageHistory()\n",
        "\n",
        "#generate_query = create_sql_query_chain(llm, db,final_prompt)\n",
        "\n",
        "#chain = (\n",
        "#RunnablePassthrough.assign(table_names_to_use=select_table) |\n",
        "#RunnablePassthrough.assign(query=generate_query).assign(\n",
        "    #result=itemgetter(\"query\") | execute_query\n",
        "#)\n",
        "#| rephrase_answer\n",
        "#)\n"
      ]
    },
    {
      "cell_type": "code",
      "execution_count": 36,
      "metadata": {
        "colab": {
          "base_uri": "https://localhost:8080/",
          "height": 35
        },
        "id": "6x-mjNpo9lc8",
        "outputId": "41c0b7b3-0563-4fda-e969-75aeb42d578a"
      },
      "outputs": [
        {
          "name": "stdout",
          "output_type": "stream",
          "text": [
            "SQL Query: SELECT COUNT(*) FROM [account];\n"
          ]
        },
        {
          "data": {
            "text/plain": [
              "'There are 223 accounts.'"
            ]
          },
          "execution_count": 36,
          "metadata": {},
          "output_type": "execute_result"
        }
      ],
      "source": [
        "question = \"How many accounts are there?\"\n",
        "response = chain.invoke({\"question\": question,\"messages\":history.messages})\n",
        "response"
      ]
    },
    {
      "cell_type": "code",
      "execution_count": 37,
      "metadata": {
        "id": "k98Hmj2Y9mvk"
      },
      "outputs": [],
      "source": [
        "history.add_user_message(question)\n",
        "history.add_ai_message(response)\n"
      ]
    },
    {
      "cell_type": "code",
      "execution_count": 38,
      "metadata": {
        "colab": {
          "base_uri": "https://localhost:8080/"
        },
        "id": "x9DLodzOonza",
        "outputId": "214bda35-1b95-4fa6-881f-d3cd62c7265d"
      },
      "outputs": [
        {
          "data": {
            "text/plain": [
              "[HumanMessage(content='How many accounts are there?'),\n",
              " AIMessage(content='There are 223 accounts.')]"
            ]
          },
          "execution_count": 38,
          "metadata": {},
          "output_type": "execute_result"
        }
      ],
      "source": [
        "history.messages"
      ]
    },
    {
      "cell_type": "code",
      "execution_count": 39,
      "metadata": {
        "colab": {
          "base_uri": "https://localhost:8080/",
          "height": 35
        },
        "id": "ptN_RIoI-CZX",
        "outputId": "58336587-f454-4bf8-a131-d45c96a47edc"
      },
      "outputs": [
        {
          "name": "stdout",
          "output_type": "stream",
          "text": [
            "SQL Query: SELECT g.group_name FROM [group] g INNER JOIN [membership] m ON g.id = m.m_group_id INNER JOIN [account] a ON m.account_id = a.id WHERE a.acct_name = 'root';\n"
          ]
        },
        {
          "data": {
            "text/plain": [
              "\"The account name 'root' is associated with the following group names: 'CN=Account Operators,CN=Builtin,DC=ADVCRD,DC=sbp,DC=local', 'CN=Administrators,CN=Builtin,DC=ADVCRD,DC=sbp,DC=local', 'CN=Cert Publishers,CN=Users,DC=ADVCRD,DC=sbp,DC=local', 'CN=Certificate Service DCOM Access,CN=Builtin,DC=ADVCRD,DC=sbp,DC=local', 'CN=Cyberark-Test-Group,OU=Test Objects,DC=ADVCRD,DC=sbp,DC=local', 'CN=Denied RODC Password Replication Group,CN=Users,DC=ADVCRD,DC=sbp,DC=local', 'CN=DnsAdmins,CN=Users,DC=ADVCRD,DC=sbp,DC=local', 'CN=Domain Admins,CN=Users,DC=ADVCRD,DC=sbp,DC=local', 'CN=Enterprise Admins,CN=Users,DC=ADVCRD,DC=sbp,DC=local', 'CN=Group Policy Creator Owners,CN=Users,DC=ADVCRD,DC=sbp,DC=local', 'CN=Guests,CN=Builtin,DC=ADVCRD,DC=sbp,DC=local', 'CN=IT-CTPSQLDBA-Team,CN=Users,DC=ADVCRD,DC=sbp,DC=local', 'CN=PAM-COE-BeyondTrust-Server-Admin-GPO,OU=BeyondTrust,OU=Groups,DC=ADVCRD,DC=sbp,DC=local', 'CN=PAM-COE-CyberArk-Admin,OU=CyberArk,OU=Groups,DC=ADVCRD,DC=sbp,DC=local', 'CN=PAM-COE-CyberArk-Auditors,OU=CyberArk,OU=Groups,DC=ADVCRD,DC=sbp,DC=local', 'CN=PAM-COE-CyberArk-GroupPolicyManager,OU=CyberArk,OU=Groups,DC=ADVCRD,DC=sbp,DC=local', 'CN=PAM-COE-CyberArk-RemoteUser,OU=CyberArk,OU=Groups,DC=ADVCRD,DC=sbp,DC=local', 'CN=PAM-COE-CyberArk-Safe-Managers,OU=CyberArk,OU=Groups,DC=ADVCRD,DC=sbp,DC=local', 'CN=PAM-COE-CyberArk-Server-Admin-GPO,OU=CyberArk,OU=Groups,DC=ADVCRD,DC=sbp,DC=local', 'CN=PAM-COE-CyberArk-Users,OU=CyberArk,OU=Groups,DC=ADVCRD,DC=sbp,DC=local', 'CN=PAM-COE-CyberArk-Vault-Admins,OU=CyberArk,OU=Groups,DC=ADVCRD,DC=sbp,DC=local', 'CN=PAM-COE-Hashicorp-Admin,OU=HashiCorp,OU=Groups,DC=ADVCRD,DC=sbp,DC=local', 'CN=PAM-COE-Hashicorp-Server-Admin-GPO,OU=HashiCorp,OU=Groups,DC=ADVCRD,DC=sbp,DC=local', 'CN=PAM-COE-Manage-Test-Objects,OU=Groups,DC=ADVCRD,DC=sbp,DC=local', 'CN=PAM-COE-RemoteDesktop-User,CN=Users,DC=ADVCRD,DC=sbp,DC=local', 'CN=PAM-COE-Thycotic-Admin,OU=Thycotic,OU=Groups,DC=ADVCRD,DC=sbp,DC=local', 'CN=PAM-COE-Thycotic-RemoteUser,OU=Thycotic,OU=Groups,DC=ADVCRD,DC=sbp,DC=local', 'CN=PAM-COE-Thycotic-Server\""
            ]
          },
          "execution_count": 39,
          "metadata": {},
          "output_type": "execute_result"
        }
      ],
      "source": [
        "response = chain.invoke({\"question\": \"Provide group name for account name root?\",\"messages\":history.messages})\n",
        "response"
      ]
    }
  ],
  "metadata": {
    "colab": {
      "include_colab_link": true,
      "provenance": []
    },
    "kernelspec": {
      "display_name": "Python 3",
      "name": "python3"
    },
    "language_info": {
      "codemirror_mode": {
        "name": "ipython",
        "version": 3
      },
      "file_extension": ".py",
      "mimetype": "text/x-python",
      "name": "python",
      "nbconvert_exporter": "python",
      "pygments_lexer": "ipython3",
      "version": "3.12.2"
    }
  },
  "nbformat": 4,
  "nbformat_minor": 0
}
